{
 "cells": [
  {
   "cell_type": "markdown",
   "metadata": {
    "ExecuteTime": {
     "end_time": "2018-11-14T13:46:22.088990Z",
     "start_time": "2018-11-14T13:46:22.081011Z"
    }
   },
   "source": [
    "Algorithmic Methods for Data Mining\n",
    "==============================\n"
   ]
  },
  {
   "cell_type": "markdown",
   "metadata": {},
   "source": [
    "## Homework 3 - Airbnb Search Engine\n",
    "### Group #17 - Giulia Scialanga, Guilherme Nicchio, Marco Minici\n",
    "##### 26/11/2018"
   ]
  },
  {
   "cell_type": "markdown",
   "metadata": {},
   "source": [
    "The goal of this project consists in buiding a search engine over a data base of Airbnb houses. \n",
    "\n",
    "The code returns the houses of the data base which matches the descriptions entered by an user query. "
   ]
  },
  {
   "cell_type": "markdown",
   "metadata": {
    "ExecuteTime": {
     "end_time": "2018-11-16T11:55:05.188327Z",
     "start_time": "2018-11-16T11:55:05.182344Z"
    }
   },
   "source": [
    "User query means the sentence an user enter in a search field, for example: \"A beuatiful house with beach and garden\"."
   ]
  },
  {
   "cell_type": "markdown",
   "metadata": {},
   "source": [
    "For this project was used the following libraries:"
   ]
  },
  {
   "cell_type": "code",
   "execution_count": 2,
   "metadata": {
    "ExecuteTime": {
     "end_time": "2018-11-25T13:59:40.882550Z",
     "start_time": "2018-11-25T13:59:38.778174Z"
    }
   },
   "outputs": [],
   "source": [
    "from os.path import isdir\n",
    "from os import mkdir\n",
    "import pandas as pd\n",
    "import numpy as np\n",
    "import csv\n",
    "import math\n",
    "from os import listdir\n",
    "from os.path import isfile\n",
    "from os import remove\n",
    "from tqdm import tqdm\n",
    "from sklearn.feature_extraction.text import TfidfVectorizer\n",
    "from geopy import distance\n",
    "import folium\n",
    "import os\n",
    "from heapq import nlargest\n",
    "from nltk import SnowballStemmer\n",
    "from nltk.tokenize import RegexpTokenizer\n",
    "from nltk.corpus import stopwords\n",
    "import re\n",
    "import string\n",
    "import pickle\n",
    "import inflect"
   ]
  },
  {
   "cell_type": "markdown",
   "metadata": {},
   "source": [
    "The functions created for the purpose of this work are in the file **airbnb_search_engine.py** located in the repository. For displaying the results of this work let's import it and assign the main class of it to a variable."
   ]
  },
  {
   "cell_type": "code",
   "execution_count": 39,
   "metadata": {
    "ExecuteTime": {
     "end_time": "2018-11-25T11:56:40.476883Z",
     "start_time": "2018-11-25T11:56:40.471869Z"
    }
   },
   "outputs": [],
   "source": [
    "import airbnb_search_engine\n",
    "airbnb = airbnb_search_engine.AirBnbPy()"
   ]
  },
  {
   "cell_type": "markdown",
   "metadata": {},
   "source": [
    "# The Data"
   ]
  },
  {
   "cell_type": "markdown",
   "metadata": {},
   "source": [
    "The data used is a csv file with the following columns."
   ]
  },
  {
   "cell_type": "code",
   "execution_count": 40,
   "metadata": {
    "ExecuteTime": {
     "end_time": "2018-11-25T11:56:43.141489Z",
     "start_time": "2018-11-25T11:56:42.833319Z"
    },
    "scrolled": false
   },
   "outputs": [
    {
     "data": {
      "text/html": [
       "<div>\n",
       "<style scoped>\n",
       "    .dataframe tbody tr th:only-of-type {\n",
       "        vertical-align: middle;\n",
       "    }\n",
       "\n",
       "    .dataframe tbody tr th {\n",
       "        vertical-align: top;\n",
       "    }\n",
       "\n",
       "    .dataframe thead th {\n",
       "        text-align: right;\n",
       "    }\n",
       "</style>\n",
       "<table border=\"1\" class=\"dataframe\">\n",
       "  <thead>\n",
       "    <tr style=\"text-align: right;\">\n",
       "      <th></th>\n",
       "      <th>average_rate_per_night</th>\n",
       "      <th>bedrooms_count</th>\n",
       "      <th>city</th>\n",
       "      <th>date_of_listing</th>\n",
       "      <th>description</th>\n",
       "      <th>latitude</th>\n",
       "      <th>longitude</th>\n",
       "      <th>title</th>\n",
       "      <th>url</th>\n",
       "    </tr>\n",
       "  </thead>\n",
       "  <tbody>\n",
       "    <tr>\n",
       "      <th>1</th>\n",
       "      <td>$27</td>\n",
       "      <td>2</td>\n",
       "      <td>Humble</td>\n",
       "      <td>May 2016</td>\n",
       "      <td>Welcome to stay in private room with queen bed...</td>\n",
       "      <td>30.020138</td>\n",
       "      <td>-95.293996</td>\n",
       "      <td>2 Private rooms/bathroom 10min from IAH airport</td>\n",
       "      <td>https://www.airbnb.com/rooms/18520444?location...</td>\n",
       "    </tr>\n",
       "    <tr>\n",
       "      <th>2</th>\n",
       "      <td>$149</td>\n",
       "      <td>4</td>\n",
       "      <td>San Antonio</td>\n",
       "      <td>November 2010</td>\n",
       "      <td>Stylish, fully remodeled home in upscale NW – ...</td>\n",
       "      <td>29.503068</td>\n",
       "      <td>-98.447688</td>\n",
       "      <td>Unique Location! Alamo Heights - Designer Insp...</td>\n",
       "      <td>https://www.airbnb.com/rooms/17481455?location...</td>\n",
       "    </tr>\n",
       "    <tr>\n",
       "      <th>3</th>\n",
       "      <td>$59</td>\n",
       "      <td>1</td>\n",
       "      <td>Houston</td>\n",
       "      <td>January 2017</td>\n",
       "      <td>'River house on island close to the city' \\nA ...</td>\n",
       "      <td>29.829352</td>\n",
       "      <td>-95.081549</td>\n",
       "      <td>River house near the city</td>\n",
       "      <td>https://www.airbnb.com/rooms/16926307?location...</td>\n",
       "    </tr>\n",
       "    <tr>\n",
       "      <th>4</th>\n",
       "      <td>$60</td>\n",
       "      <td>1</td>\n",
       "      <td>Bryan</td>\n",
       "      <td>February 2016</td>\n",
       "      <td>Private bedroom in a cute little home situated...</td>\n",
       "      <td>30.637304</td>\n",
       "      <td>-96.337846</td>\n",
       "      <td>Private Room Close to Campus</td>\n",
       "      <td>https://www.airbnb.com/rooms/11839729?location...</td>\n",
       "    </tr>\n",
       "    <tr>\n",
       "      <th>5</th>\n",
       "      <td>$75</td>\n",
       "      <td>2</td>\n",
       "      <td>Fort Worth</td>\n",
       "      <td>February 2017</td>\n",
       "      <td>Welcome to our original 1920's home. We recent...</td>\n",
       "      <td>32.747097</td>\n",
       "      <td>-97.286434</td>\n",
       "      <td>The Porch</td>\n",
       "      <td>https://www.airbnb.com/rooms/17325114?location...</td>\n",
       "    </tr>\n",
       "  </tbody>\n",
       "</table>\n",
       "</div>"
      ],
      "text/plain": [
       "  average_rate_per_night bedrooms_count         city date_of_listing  \\\n",
       "1                    $27              2       Humble        May 2016   \n",
       "2                   $149              4  San Antonio   November 2010   \n",
       "3                    $59              1      Houston    January 2017   \n",
       "4                    $60              1        Bryan   February 2016   \n",
       "5                    $75              2   Fort Worth   February 2017   \n",
       "\n",
       "                                         description   latitude  longitude  \\\n",
       "1  Welcome to stay in private room with queen bed...  30.020138 -95.293996   \n",
       "2  Stylish, fully remodeled home in upscale NW – ...  29.503068 -98.447688   \n",
       "3  'River house on island close to the city' \\nA ...  29.829352 -95.081549   \n",
       "4  Private bedroom in a cute little home situated...  30.637304 -96.337846   \n",
       "5  Welcome to our original 1920's home. We recent...  32.747097 -97.286434   \n",
       "\n",
       "                                               title  \\\n",
       "1    2 Private rooms/bathroom 10min from IAH airport   \n",
       "2  Unique Location! Alamo Heights - Designer Insp...   \n",
       "3                          River house near the city   \n",
       "4                       Private Room Close to Campus   \n",
       "5                                          The Porch   \n",
       "\n",
       "                                                 url  \n",
       "1  https://www.airbnb.com/rooms/18520444?location...  \n",
       "2  https://www.airbnb.com/rooms/17481455?location...  \n",
       "3  https://www.airbnb.com/rooms/16926307?location...  \n",
       "4  https://www.airbnb.com/rooms/11839729?location...  \n",
       "5  https://www.airbnb.com/rooms/17325114?location...  "
      ]
     },
     "execution_count": 40,
     "metadata": {},
     "output_type": "execute_result"
    }
   ],
   "source": [
    "data = airbnb.loadData()\n",
    "data.head()"
   ]
  },
  {
   "cell_type": "markdown",
   "metadata": {},
   "source": [
    "The first goal on the process is to match the user query with descriptions and tittles of the houses."
   ]
  },
  {
   "cell_type": "markdown",
   "metadata": {},
   "source": [
    "## Cleaning the data"
   ]
  },
  {
   "cell_type": "markdown",
   "metadata": {
    "heading_collapsed": true
   },
   "source": [
    "#### Cleaning process:\n",
    "\n",
    "It was noticed that the data base has some \"noise\" within it, for example empty cells (NA) in location coordinates, title and description which is essential for the concept of search engine built and the houses of the respective residences won't produce any match to an entered query.\n",
    "\n",
    "It was also noticed duplicated cells, that sometimes are system error or a house entered in the system twice by the owner, in order to avoid a duplicated outcome for the query the duplicated cells will be dropped out of the data base.\n",
    "\n",
    "Cleaning process:\n",
    "\n",
    "-Delete all rows with \"latitude\" equal to NA, in this cases when latitude is empty was noticed that also longitude column was empty, thus if a house is not locatable it is useless for a customer.\n",
    "\n",
    "-Delete rows with **both** description and title equal to NA since it wouldn't be possible to match the user query.\n",
    "\n",
    "-Retain all others rows."
   ]
  },
  {
   "cell_type": "markdown",
   "metadata": {
    "ExecuteTime": {
     "end_time": "2018-11-16T11:40:27.638942Z",
     "start_time": "2018-11-16T11:40:27.633956Z"
    }
   },
   "source": [
    "#### 1.1.1 Load the data.csv\n",
    "\n",
    "- read csv file with pandas csv read.\n",
    "\n",
    "#### 1.1.2 Call cleandata()\n",
    "\n",
    "- Gets just data which has not null in latitude column;\n",
    "\n",
    "- Drop NA's from description and title;\n",
    "\n",
    "- Drop all duplicated rows;\n",
    "\n",
    "- Returns the data.\n"
   ]
  },
  {
   "cell_type": "markdown",
   "metadata": {},
   "source": [
    "## Pre-processing the data and creating Tsv files for each house\n",
    "At this point there is a data frame with duplicated removed and empty fields removed.\n",
    "The next step is to go through each row of the data frame process it and write a tsv file with it."
   ]
  },
  {
   "cell_type": "markdown",
   "metadata": {},
   "source": [
    "Before diving into text and feature extraction, the first step will be further treating the data in order to obtain better features. We will achieve this by doing some of the basic _*pre-processing*_ steps on our data, for this it was used the library NLTK which has many features for natural language processing."
   ]
  },
  {
   "cell_type": "markdown",
   "metadata": {},
   "source": [
    "### Pre-processing"
   ]
  },
  {
   "cell_type": "markdown",
   "metadata": {},
   "source": [
    "###### Lower case\n",
    "The first pre-processing step is to transform our descriptions and titles into lower case. This avoids having multiple copies of the same words. For example, while calculating the word count, ‘House’ and ‘house’ would be taken as different words."
   ]
  },
  {
   "cell_type": "markdown",
   "metadata": {},
   "source": [
    "##### Tokenization\n",
    "Tokenization refers to dividing the text into a sequence of words or sentences."
   ]
  },
  {
   "cell_type": "markdown",
   "metadata": {},
   "source": [
    "##### Removing Punctuation and Stop Words\n",
    "The next step is to remove punctuation and stopwords, as it doesn’t add any extra information while treating text data. Therefore removing all instances of it will help us reduce the size of the data."
   ]
  },
  {
   "cell_type": "markdown",
   "metadata": {},
   "source": [
    "##### Stemming\n",
    "Stemming refers to the removal of suffices, like “ing”, “ly”, “s”, etc. by a simple rule-based approach. For this purpose, it will be used SnowballStemmer from the NLTK library."
   ]
  },
  {
   "cell_type": "markdown",
   "metadata": {},
   "source": [
    "##### Removing non-enlish characters\n",
    "When handling the data was noticed non-english texts, for example descriptions entered in chinese language can bring problematics when processing the text. In order to solve this issue was created a function to test if the description an title are indeed using english characters, therefore, the data just proceed for process and creating tsv file if the english test function returns true for the test."
   ]
  },
  {
   "cell_type": "markdown",
   "metadata": {},
   "source": [
    "### Creating TSV files\n",
    "After pre processing the text we join the description and title text and replace then in the original field, proceeding to the tsv file creation. The treated data has 18259 rolls which will result in the same number of tsv files for the analysis of the search engine with the title and description properly pre-processed"
   ]
  },
  {
   "cell_type": "markdown",
   "metadata": {},
   "source": [
    "# Building the Search Engine"
   ]
  },
  {
   "cell_type": "markdown",
   "metadata": {},
   "source": [
    "This section consists in:\n",
    "\n",
    "- Build the encoding for the words in the corpus. To each word is associated a unique int ID.\n",
    "\n",
    "- Create the reverted index. To each word ID is associated the set of documents which contains that word.\n",
    "\n",
    "- Do an interface to perform queries to the search engine."
   ]
  },
  {
   "cell_type": "markdown",
   "metadata": {
    "ExecuteTime": {
     "end_time": "2018-11-16T12:58:16.369236Z",
     "start_time": "2018-11-16T12:58:16.365271Z"
    }
   },
   "source": [
    "### Building the Encoding\n",
    "At this point the tsv files are created and pre-processed. The next step is to create a dictionary for the vocabulary of words present in all the documents, in this dictionary each word corresponds to a single number. This process will help analyse which documents have the respective word."
   ]
  },
  {
   "cell_type": "markdown",
   "metadata": {},
   "source": [
    "Example of what is the target at this point: {\"car\":1, \"house\":2}"
   ]
  },
  {
   "cell_type": "markdown",
   "metadata": {},
   "source": [
    "This step was approached browsing through every file's title and description and adding its words into an empty dictionary. But before adding it is checked if the word isn't yet in the dictionary, when adding the word to the dictionary its key value is a counter of how many unique words were collected so far. "
   ]
  },
  {
   "cell_type": "markdown",
   "metadata": {
    "ExecuteTime": {
     "end_time": "2018-11-25T13:45:53.663320Z",
     "start_time": "2018-11-25T13:45:53.589514Z"
    }
   },
   "source": [
    "Algorithm"
   ]
  },
  {
   "cell_type": "markdown",
   "metadata": {},
   "source": [
    "    1.BuildingEncoding\n",
    "        Create an empty dictionary to store words\n",
    "        Create a counter to store the index of how many single words we have (vocabulary size)\n",
    "        for each file in \"listdir(directory address)\"\n",
    "            Goes to the title, strip its words and create a set of it to remove duplicates\n",
    "            do the same for the description\n",
    "            Union both sets\n",
    "            For each word in the united set check if it is not dictionary already\n",
    "                If it isnt add it to the dictionary as a key\n",
    "                Set the counter as the value of the word in the dictionary\n",
    "                Increase the counter +1"
   ]
  },
  {
   "cell_type": "markdown",
   "metadata": {},
   "source": [
    "### Reverse Index\n",
    "Creating a dictionary of words as keys and documents as values."
   ]
  },
  {
   "cell_type": "markdown",
   "metadata": {},
   "source": [
    "After this step can say in for each number (word) which documents have it example \n",
    "\n",
    " \n",
    "{\n",
    "\n",
    "term_id_1:[document_1, document_2, document_4],\n",
    "\n",
    "term_id_2:[document_1, document_3, document_5, document_6],\n",
    "\n",
    "...}\n"
   ]
  },
  {
   "cell_type": "markdown",
   "metadata": {},
   "source": [
    "In this step it is created a new dictionary which the keys are the the vocabulary numbers of the previous dictionary. Then it is checkd for each document if the title and the description has the respective word, if there is the document name is appended as a value to the respective keyword."
   ]
  },
  {
   "cell_type": "code",
   "execution_count": 44,
   "metadata": {
    "ExecuteTime": {
     "end_time": "2018-11-25T11:57:05.954773Z",
     "start_time": "2018-11-25T11:57:05.950781Z"
    }
   },
   "outputs": [],
   "source": [
    "reverted_index = airbnb.RI"
   ]
  },
  {
   "cell_type": "code",
   "execution_count": 45,
   "metadata": {
    "ExecuteTime": {
     "end_time": "2018-11-25T11:57:08.108474Z",
     "start_time": "2018-11-25T11:57:08.103488Z"
    }
   },
   "outputs": [
    {
     "data": {
      "text/plain": [
       "12385"
      ]
     },
     "execution_count": 45,
     "metadata": {},
     "output_type": "execute_result"
    }
   ],
   "source": [
    "len(reverted_index)"
   ]
  },
  {
   "cell_type": "markdown",
   "metadata": {},
   "source": [
    "We have 12385 different words we have in all the documents."
   ]
  },
  {
   "cell_type": "markdown",
   "metadata": {},
   "source": [
    "Algorithm"
   ]
  },
  {
   "cell_type": "markdown",
   "metadata": {},
   "source": [
    "    Create a new dictionary with the keys being the numbers at the size of the vocabulary\n",
    "        this is our target dictionary, we want to say what documents have this word\n",
    "    For each file in \"listdir(directory address)\"\n",
    "        Goes to the title, strip its words and create a set of it to remove duplicates\n",
    "        Do the same for the description\n",
    "        Union both sets\n",
    "        For each word in the set\n",
    "            Get which number this word has in the vocabulary dictionary\n",
    "            Goes to the new dictionary and append the name of the document to the key"
   ]
  },
  {
   "cell_type": "markdown",
   "metadata": {},
   "source": [
    "# Conjunctive query"
   ]
  },
  {
   "cell_type": "markdown",
   "metadata": {},
   "source": [
    "At this moment, we narrow our interest on the description and title of each document. It means that the first Search Engine will evaluate queries with respect to the aforementioned information."
   ]
  },
  {
   "cell_type": "markdown",
   "metadata": {},
   "source": [
    "Since we are dealing with conjunctive queries (AND), each of the returned documents should contain all the words in the query. The final output is a table of documents with title, description, city and url."
   ]
  },
  {
   "cell_type": "markdown",
   "metadata": {},
   "source": [
    "Our first goal is to get the query and process it in order to be in the same standard as the description and title."
   ]
  },
  {
   "cell_type": "markdown",
   "metadata": {},
   "source": [
    "### Query processing"
   ]
  },
  {
   "cell_type": "markdown",
   "metadata": {},
   "source": [
    "After the user enter a query, which is considered a sentence which will be acquired in string format and apply the same process of Tokenization, eliminating stopwords and stemming the words, which were described in the **Pre-processing**."
   ]
  },
  {
   "cell_type": "markdown",
   "metadata": {},
   "source": [
    "For example, a query **\"a beautiful house with garden and beach\"** turns into a list **['beauti', 'hous', 'garden', 'beach']**"
   ]
  },
  {
   "cell_type": "markdown",
   "metadata": {},
   "source": [
    "Now that we have the query properly formated its possible to go to the dictionary created in the previous section and check which documents have the words of the query."
   ]
  },
  {
   "cell_type": "markdown",
   "metadata": {},
   "source": [
    "In this step we go through each word in the query list and append the set of documents of present on the dictionary values to a new list. At the end of the preccess this new list has all sets of documents which contain the query words"
   ]
  },
  {
   "cell_type": "markdown",
   "metadata": {},
   "source": [
    "As it is wanted a document that has all the words in it we do an intersection of this sets, which correspond to the group of documents that have all the words."
   ]
  },
  {
   "cell_type": "markdown",
   "metadata": {},
   "source": [
    "### Example"
   ]
  },
  {
   "cell_type": "markdown",
   "metadata": {},
   "source": [
    "First let's create the term encoding and the reverted index dictionary to perform the query."
   ]
  },
  {
   "cell_type": "code",
   "execution_count": 43,
   "metadata": {
    "ExecuteTime": {
     "end_time": "2018-11-25T11:57:00.115743Z",
     "start_time": "2018-11-25T11:56:59.967139Z"
    }
   },
   "outputs": [],
   "source": [
    "airbnb.buildEncoding(fileName = \"term_encoding.pickle\")\n",
    "airbnb.createRevertedIndex(fileName = \"reverted_index.pickle\")"
   ]
  },
  {
   "cell_type": "markdown",
   "metadata": {
    "ExecuteTime": {
     "end_time": "2018-11-24T17:17:13.588146Z",
     "start_time": "2018-11-24T17:17:13.582124Z"
    }
   },
   "source": [
    "Imputing the query and performing the search."
   ]
  },
  {
   "cell_type": "code",
   "execution_count": 18,
   "metadata": {
    "ExecuteTime": {
     "end_time": "2018-11-24T17:28:38.576715Z",
     "start_time": "2018-11-24T17:28:30.742934Z"
    },
    "scrolled": true
   },
   "outputs": [
    {
     "name": "stdout",
     "output_type": "stream",
     "text": [
      "Enter here your search: a beautiful house with garden and beach\n",
      "Query processed:  ['beauti', 'hous', 'garden', 'beach']\n",
      "Empty DataFrame\n",
      "Columns: [title, description, city, url]\n",
      "Index: []\n"
     ]
    }
   ],
   "source": [
    "result,_ = airbnb.query(str(input(\"Enter here your search: \")))\n",
    "print(result)"
   ]
  },
  {
   "cell_type": "markdown",
   "metadata": {},
   "source": [
    "Note that the query function returned a empty data frame, this means that there are no results matching this query. Let's try to simplify the query."
   ]
  },
  {
   "cell_type": "code",
   "execution_count": 20,
   "metadata": {
    "ExecuteTime": {
     "end_time": "2018-11-24T17:30:53.326276Z",
     "start_time": "2018-11-24T17:30:45.780455Z"
    },
    "scrolled": true
   },
   "outputs": [
    {
     "name": "stdout",
     "output_type": "stream",
     "text": [
      "Enter here your search: a house at the beach\n",
      "Query processed:  ['hous', 'beach']\n"
     ]
    },
    {
     "data": {
      "text/html": [
       "<div>\n",
       "<style scoped>\n",
       "    .dataframe tbody tr th:only-of-type {\n",
       "        vertical-align: middle;\n",
       "    }\n",
       "\n",
       "    .dataframe tbody tr th {\n",
       "        vertical-align: top;\n",
       "    }\n",
       "\n",
       "    .dataframe thead th {\n",
       "        text-align: right;\n",
       "    }\n",
       "</style>\n",
       "<table border=\"1\" class=\"dataframe\">\n",
       "  <thead>\n",
       "    <tr style=\"text-align: right;\">\n",
       "      <th></th>\n",
       "      <th>title</th>\n",
       "      <th>description</th>\n",
       "      <th>city</th>\n",
       "      <th>url</th>\n",
       "    </tr>\n",
       "  </thead>\n",
       "  <tbody>\n",
       "    <tr>\n",
       "      <th>4067</th>\n",
       "      <td>Bring the whole family &amp; the dog. 5 min to beach!</td>\n",
       "      <td>Our beach house has everything you need: comfo...</td>\n",
       "      <td>Port Aransas</td>\n",
       "      <td>https://www.airbnb.com/rooms/13686358?location...</td>\n",
       "    </tr>\n",
       "    <tr>\n",
       "      <th>1696</th>\n",
       "      <td>Unwind &amp; Play | Sun-Drenched Galveston Beach H...</td>\n",
       "      <td>Welcome to Camp Lafitte, a classic Galveston b...</td>\n",
       "      <td>Galveston</td>\n",
       "      <td>https://www.airbnb.com/rooms/16484229?location...</td>\n",
       "    </tr>\n",
       "    <tr>\n",
       "      <th>5839</th>\n",
       "      <td>League City, TX Rental 3 bedroom, 2 baths.</td>\n",
       "      <td>1600 sq ft house in League City, TX, a great l...</td>\n",
       "      <td>League City</td>\n",
       "      <td>https://www.airbnb.com/rooms/16603529?location...</td>\n",
       "    </tr>\n",
       "    <tr>\n",
       "      <th>13351</th>\n",
       "      <td>Historic Cole St House, walk to water, Cole Park</td>\n",
       "      <td>1600 Square foot historic house in a great nei...</td>\n",
       "      <td>Corpus Christi</td>\n",
       "      <td>https://www.airbnb.com/rooms/14211883?location...</td>\n",
       "    </tr>\n",
       "    <tr>\n",
       "      <th>17090</th>\n",
       "      <td>The COVE &amp; RV</td>\n",
       "      <td>PIRATES COVE and RV is a beautiful beachfront ...</td>\n",
       "      <td>Crystal Beach</td>\n",
       "      <td>https://www.airbnb.com/rooms/6870793?location=...</td>\n",
       "    </tr>\n",
       "  </tbody>\n",
       "</table>\n",
       "</div>"
      ],
      "text/plain": [
       "                                                   title  \\\n",
       "4067   Bring the whole family & the dog. 5 min to beach!   \n",
       "1696   Unwind & Play | Sun-Drenched Galveston Beach H...   \n",
       "5839          League City, TX Rental 3 bedroom, 2 baths.   \n",
       "13351   Historic Cole St House, walk to water, Cole Park   \n",
       "17090                                      The COVE & RV   \n",
       "\n",
       "                                             description            city  \\\n",
       "4067   Our beach house has everything you need: comfo...    Port Aransas   \n",
       "1696   Welcome to Camp Lafitte, a classic Galveston b...       Galveston   \n",
       "5839   1600 sq ft house in League City, TX, a great l...     League City   \n",
       "13351  1600 Square foot historic house in a great nei...  Corpus Christi   \n",
       "17090  PIRATES COVE and RV is a beautiful beachfront ...   Crystal Beach   \n",
       "\n",
       "                                                     url  \n",
       "4067   https://www.airbnb.com/rooms/13686358?location...  \n",
       "1696   https://www.airbnb.com/rooms/16484229?location...  \n",
       "5839   https://www.airbnb.com/rooms/16603529?location...  \n",
       "13351  https://www.airbnb.com/rooms/14211883?location...  \n",
       "17090  https://www.airbnb.com/rooms/6870793?location=...  "
      ]
     },
     "execution_count": 20,
     "metadata": {},
     "output_type": "execute_result"
    }
   ],
   "source": [
    "result,_ = airbnb.query(str(input(\"Enter here your search: \")))\n",
    "result.head()"
   ]
  },
  {
   "cell_type": "code",
   "execution_count": 21,
   "metadata": {
    "ExecuteTime": {
     "end_time": "2018-11-24T17:31:16.138265Z",
     "start_time": "2018-11-24T17:31:16.132309Z"
    },
    "scrolled": true
   },
   "outputs": [
    {
     "data": {
      "text/plain": [
       "320"
      ]
     },
     "execution_count": 21,
     "metadata": {},
     "output_type": "execute_result"
    }
   ],
   "source": [
    "len(result)"
   ]
  },
  {
   "cell_type": "markdown",
   "metadata": {},
   "source": [
    "This query matched 320 houses."
   ]
  },
  {
   "cell_type": "markdown",
   "metadata": {
    "ExecuteTime": {
     "end_time": "2018-11-24T16:24:04.320119Z",
     "start_time": "2018-11-24T16:24:04.316132Z"
    }
   },
   "source": [
    "## Conjunctive query & Ranking score"
   ]
  },
  {
   "cell_type": "markdown",
   "metadata": {
    "ExecuteTime": {
     "end_time": "2018-11-24T16:24:54.696662Z",
     "start_time": "2018-11-24T16:24:54.692645Z"
    }
   },
   "source": [
    "Let's improve the Search Engine, given a query, now let's get the top 5 documents related to the query."
   ]
  },
  {
   "cell_type": "markdown",
   "metadata": {
    "ExecuteTime": {
     "end_time": "2018-11-24T17:51:26.150483Z",
     "start_time": "2018-11-24T17:51:26.142504Z"
    }
   },
   "source": [
    "For this, will be retrieved all the documents that contains all the words in the query, as before. But afterwards they will be sorted by their similarity with the query\n",
    "\n",
    "To compute the simalarity will be used the tf-Idf score, and the Cosine similarity."
   ]
  },
  {
   "cell_type": "markdown",
   "metadata": {},
   "source": [
    "The TF-IDF weight function ( term frequency-inverse document frequency ) is a function used in information retrieval to measure the importance of a term with respect to a document or a collection of documents. This function increases proportionally to the number of times the term is contained in the document, but grows in an inversely proportional manner with the frequency of the term in the collection. The idea behind this behavior is to give more importance to the terms that appear in the document, but that are generally infrequent."
   ]
  },
  {
   "cell_type": "markdown",
   "metadata": {},
   "source": [
    "Cosine similarity calculates similarity by measuring the cosine of angle between two vectors. This is calculated as:"
   ]
  },
  {
   "cell_type": "markdown",
   "metadata": {
    "ExecuteTime": {
     "end_time": "2018-11-24T18:01:50.700356Z",
     "start_time": "2018-11-24T18:01:50.693376Z"
    }
   },
   "source": [
    "\\begin{equation}\n",
    "cos(\\pmb x, \\pmb y) = \\frac {\\pmb x \\cdot \\pmb y}{||\\pmb x|| \\cdot ||\\pmb y||}\n",
    "\\end{equation}"
   ]
  },
  {
   "cell_type": "markdown",
   "metadata": {},
   "source": [
    "With cosine similarity, we need to convert sentences into vectors. One way to do that is to use bag of words with either TF (term frequency) or TF-IDF (term frequency- inverse document frequency). The choice of TF or TF-IDF depends on application and is immaterial to how cosine similarity is actually performed — which just needs vectors. TF is good for text similarity in general, but TF-IDF is good for search query relevance."
   ]
  },
  {
   "cell_type": "markdown",
   "metadata": {},
   "source": [
    "### The computation flow as follow."
   ]
  },
  {
   "cell_type": "markdown",
   "metadata": {},
   "source": [
    "In order to evaluate the cosine similarity we must prepare our code to execute it efficiently."
   ]
  },
  {
   "cell_type": "markdown",
   "metadata": {},
   "source": [
    "### Build corpus for the TF-IDF"
   ]
  },
  {
   "cell_type": "markdown",
   "metadata": {},
   "source": [
    "Computing the TFIDF values involve creating the corpus of our dataset. The corpus consists of a collection of documents where each document is represented by the string obtained concatenating the title and the description field of each record."
   ]
  },
  {
   "cell_type": "markdown",
   "metadata": {},
   "source": [
    "### Build the TF-IDF matrix"
   ]
  },
  {
   "cell_type": "markdown",
   "metadata": {},
   "source": [
    "The TF-IDF matrix is formed and then the frequency of each word in a document is available as show the generic example below:\n",
    "\n",
    "|    -   |This  | is   |a     |word    |in    |the   |document|\n",
    "|--------|------|------|------|--------|------|------|--------|\n",
    "|doc_1   |0     |0.234 |0     |0.468      |0.234     |0     |0.468        |\n",
    "|doc_2   |0.234     |0.234     |0.468      |0       |0     |0.234    |0.234       |\n",
    "\n",
    "In which each frequency of the word is normalized, having then a value between 0 and 1."
   ]
  },
  {
   "cell_type": "markdown",
   "metadata": {},
   "source": [
    "### Build  the term encoding and the reverted index\n",
    "\n",
    "After this step a dictionary is available in which for each word there is the list of documents in which it is contained in, and its relative tf-Idf score.\n",
    "\n",
    "**Example:**"
   ]
  },
  {
   "cell_type": "markdown",
   "metadata": {},
   "source": [
    "{\n",
    "\n",
    "**term_id_1**:[(document1, tfIdf_{term,document1}), (document2, tfIdf_{term,document2}), (document4, tfIdf_{term,document4}), ...],\n",
    "\n",
    "**term_id_2**:[(document1, tfIdf_{term,document1}), (document3, tfIdf_{term,document3}), (document5, tfIdf_{term,document5}), (document6, tfIdf_{term,document6}), ...],\n",
    "\n",
    "...}"
   ]
  },
  {
   "cell_type": "markdown",
   "metadata": {},
   "source": [
    "**Important remark**: Before creating the corpus, tf-idf matrix, encoding and reversed index, first it is checked if it was already created previously, it will just build them if was not before."
   ]
  },
  {
   "cell_type": "markdown",
   "metadata": {},
   "source": [
    "### Perform the Cosine Similarity\n",
    "First it is performed the Conjuctive query without ranking for the query inputed by the user.\n",
    "\n",
    "Then retrieve the indexes of the docuents that match the non-ranked query.\n",
    "\n",
    "Perform the cosine similarity for each document of the non-ranked, for this it is used the vectorize function wich allows to apply the cosine similarity for all members of the array."
   ]
  },
  {
   "cell_type": "markdown",
   "metadata": {},
   "source": [
    "### Example"
   ]
  },
  {
   "cell_type": "code",
   "execution_count": 42,
   "metadata": {
    "ExecuteTime": {
     "end_time": "2018-11-24T18:10:32.885739Z",
     "start_time": "2018-11-24T18:09:26.152465Z"
    }
   },
   "outputs": [
    {
     "name": "stdout",
     "output_type": "stream",
     "text": [
      "Query processed:  ['beauti', 'hous']\n"
     ]
    },
    {
     "name": "stderr",
     "output_type": "stream",
     "text": [
      "100%|███████████████████████████████████████████████████████████████████████████| 18036/18036 [00:51<00:00, 349.26it/s]\n"
     ]
    },
    {
     "name": "stdout",
     "output_type": "stream",
     "text": [
      "[LOG]: The file tfIdfMatrix.pickle doesn't exist\n",
      "[LOG]: A new tfidf matrix will be built and saved in persistent memory with the name:= tfIdfMatrix.pickle\n",
      "[LOG]: The file term_encodingTFIDF.pickle doesn't exist\n",
      "[LOG]: A new term encoding will be built and saved in persistent memory with the name:= term_encodingTFIDF.pickle\n",
      "[LOG]: The file RI2.pickle doesn't exist\n",
      "[LOG]: A new inverted index will be built and saved in persistent memory with the name:= RI2.pickle\n"
     ]
    }
   ],
   "source": [
    "result = airbnb.rankedQuery('a beautiful house', k =  10)"
   ]
  },
  {
   "cell_type": "code",
   "execution_count": 43,
   "metadata": {
    "ExecuteTime": {
     "end_time": "2018-11-24T18:10:33.495636Z",
     "start_time": "2018-11-24T18:10:33.480704Z"
    },
    "scrolled": false
   },
   "outputs": [
    {
     "data": {
      "text/html": [
       "<div>\n",
       "<style scoped>\n",
       "    .dataframe tbody tr th:only-of-type {\n",
       "        vertical-align: middle;\n",
       "    }\n",
       "\n",
       "    .dataframe tbody tr th {\n",
       "        vertical-align: top;\n",
       "    }\n",
       "\n",
       "    .dataframe thead th {\n",
       "        text-align: right;\n",
       "    }\n",
       "</style>\n",
       "<table border=\"1\" class=\"dataframe\">\n",
       "  <thead>\n",
       "    <tr style=\"text-align: right;\">\n",
       "      <th></th>\n",
       "      <th>title</th>\n",
       "      <th>description</th>\n",
       "      <th>city</th>\n",
       "      <th>url</th>\n",
       "      <th>Similarity</th>\n",
       "    </tr>\n",
       "  </thead>\n",
       "  <tbody>\n",
       "    <tr>\n",
       "      <th>0</th>\n",
       "      <td>Quiet place</td>\n",
       "      <td>Beautiful house</td>\n",
       "      <td>New Caney</td>\n",
       "      <td>https://www.airbnb.com/rooms/16743790?location...</td>\n",
       "      <td>0.701582</td>\n",
       "    </tr>\n",
       "    <tr>\n",
       "      <th>1</th>\n",
       "      <td>Beautiful, New Beach House</td>\n",
       "      <td>Our house is close to restaurants and dining, ...</td>\n",
       "      <td>Crystal Beach</td>\n",
       "      <td>https://www.airbnb.com/rooms/15068378?location...</td>\n",
       "      <td>0.455250</td>\n",
       "    </tr>\n",
       "    <tr>\n",
       "      <th>2</th>\n",
       "      <td>My house is big and quite.</td>\n",
       "      <td>My house is a Mexican rustic decorate. Big roo...</td>\n",
       "      <td>San Antonio</td>\n",
       "      <td>https://www.airbnb.com/rooms/7378323?location=...</td>\n",
       "      <td>0.352277</td>\n",
       "    </tr>\n",
       "    <tr>\n",
       "      <th>3</th>\n",
       "      <td>Beautiful home near the splash pad, park and p...</td>\n",
       "      <td>The house is one house away from a park and .7...</td>\n",
       "      <td>Katy</td>\n",
       "      <td>https://www.airbnb.com/rooms/19079555?location...</td>\n",
       "      <td>0.348313</td>\n",
       "    </tr>\n",
       "    <tr>\n",
       "      <th>4</th>\n",
       "      <td>Beautiful home near the splash pad, park and p...</td>\n",
       "      <td>The house is one house away from a park and .7...</td>\n",
       "      <td>Katy</td>\n",
       "      <td>https://www.airbnb.com/rooms/19079555?location...</td>\n",
       "      <td>0.348313</td>\n",
       "    </tr>\n",
       "    <tr>\n",
       "      <th>5</th>\n",
       "      <td>House on the Creek</td>\n",
       "      <td>A beautiful house on the Creek, conveniently l...</td>\n",
       "      <td>Plano</td>\n",
       "      <td>https://www.airbnb.com/rooms/17992009?location...</td>\n",
       "      <td>0.346690</td>\n",
       "    </tr>\n",
       "    <tr>\n",
       "      <th>6</th>\n",
       "      <td>House in wonderful neighborhood &amp; beautiful views</td>\n",
       "      <td>My place is good for couples, solo adventurers...</td>\n",
       "      <td>San Antonio</td>\n",
       "      <td>https://www.airbnb.com/rooms/17345573?location...</td>\n",
       "      <td>0.345514</td>\n",
       "    </tr>\n",
       "    <tr>\n",
       "      <th>7</th>\n",
       "      <td>House in wonderful neighborhood &amp; beautiful views</td>\n",
       "      <td>My place is good for couples, solo adventurers...</td>\n",
       "      <td>San Antonio</td>\n",
       "      <td>https://www.airbnb.com/rooms/17345573?location...</td>\n",
       "      <td>0.345514</td>\n",
       "    </tr>\n",
       "    <tr>\n",
       "      <th>8</th>\n",
       "      <td>1. Room in beautiful home</td>\n",
       "      <td>A nice clean room in a quiet, beautiful house ...</td>\n",
       "      <td>San Antonio</td>\n",
       "      <td>https://www.airbnb.com/rooms/13915253?location...</td>\n",
       "      <td>0.343841</td>\n",
       "    </tr>\n",
       "    <tr>\n",
       "      <th>9</th>\n",
       "      <td>Quite Spacious Private Room in Beautiful House</td>\n",
       "      <td>Our house is in a small and quite family neigh...</td>\n",
       "      <td>Houston</td>\n",
       "      <td>https://www.airbnb.com/rooms/18784719?location...</td>\n",
       "      <td>0.339466</td>\n",
       "    </tr>\n",
       "  </tbody>\n",
       "</table>\n",
       "</div>"
      ],
      "text/plain": [
       "                                               title  \\\n",
       "0                                        Quiet place   \n",
       "1                         Beautiful, New Beach House   \n",
       "2                         My house is big and quite.   \n",
       "3  Beautiful home near the splash pad, park and p...   \n",
       "4  Beautiful home near the splash pad, park and p...   \n",
       "5                                 House on the Creek   \n",
       "6  House in wonderful neighborhood & beautiful views   \n",
       "7  House in wonderful neighborhood & beautiful views   \n",
       "8                          1. Room in beautiful home   \n",
       "9     Quite Spacious Private Room in Beautiful House   \n",
       "\n",
       "                                         description           city  \\\n",
       "0                                    Beautiful house      New Caney   \n",
       "1  Our house is close to restaurants and dining, ...  Crystal Beach   \n",
       "2  My house is a Mexican rustic decorate. Big roo...    San Antonio   \n",
       "3  The house is one house away from a park and .7...           Katy   \n",
       "4  The house is one house away from a park and .7...           Katy   \n",
       "5  A beautiful house on the Creek, conveniently l...          Plano   \n",
       "6  My place is good for couples, solo adventurers...    San Antonio   \n",
       "7  My place is good for couples, solo adventurers...    San Antonio   \n",
       "8  A nice clean room in a quiet, beautiful house ...    San Antonio   \n",
       "9  Our house is in a small and quite family neigh...        Houston   \n",
       "\n",
       "                                                 url  Similarity  \n",
       "0  https://www.airbnb.com/rooms/16743790?location...    0.701582  \n",
       "1  https://www.airbnb.com/rooms/15068378?location...    0.455250  \n",
       "2  https://www.airbnb.com/rooms/7378323?location=...    0.352277  \n",
       "3  https://www.airbnb.com/rooms/19079555?location...    0.348313  \n",
       "4  https://www.airbnb.com/rooms/19079555?location...    0.348313  \n",
       "5  https://www.airbnb.com/rooms/17992009?location...    0.346690  \n",
       "6  https://www.airbnb.com/rooms/17345573?location...    0.345514  \n",
       "7  https://www.airbnb.com/rooms/17345573?location...    0.345514  \n",
       "8  https://www.airbnb.com/rooms/13915253?location...    0.343841  \n",
       "9  https://www.airbnb.com/rooms/18784719?location...    0.339466  "
      ]
     },
     "execution_count": 43,
     "metadata": {},
     "output_type": "execute_result"
    }
   ],
   "source": [
    "result"
   ]
  },
  {
   "cell_type": "markdown",
   "metadata": {},
   "source": [
    "# Now let's define a new score"
   ]
  },
  {
   "cell_type": "markdown",
   "metadata": {},
   "source": [
    "Let's be more proactive and ask the user to input some information to improve the previous result for the entered query."
   ]
  },
  {
   "cell_type": "markdown",
   "metadata": {},
   "source": [
    "For example, would be interesting for the user choose minimal amount of rooms, a location desired for the house and the maximum price it is willing to pay."
   ]
  },
  {
   "cell_type": "markdown",
   "metadata": {},
   "source": [
    "Let's imagine that we provide a platform where the user input in the respective fields the amount of rooms, the price also the user is able to point a desired location in map."
   ]
  },
  {
   "cell_type": "markdown",
   "metadata": {},
   "source": [
    "With this is possible to compute the similarity of each house to the target inputed by the user."
   ]
  },
  {
   "cell_type": "markdown",
   "metadata": {},
   "source": [
    "**The workflow for the developed code go as follow**"
   ]
  },
  {
   "cell_type": "markdown",
   "metadata": {},
   "source": [
    "For each document, it is collected the number of rooms, the price, the latitude and longitude and the similarity is a weighted mean of each individual distance, outputing a number between 1 and 0 where 0 is the maximum match.\n",
    "\n",
    "The weight of each similarity in the calculation of the final similarity was defined through trial until the results were satisfactory."
   ]
  },
  {
   "cell_type": "markdown",
   "metadata": {
    "ExecuteTime": {
     "end_time": "2018-11-24T18:34:25.772239Z",
     "start_time": "2018-11-24T18:34:25.765233Z"
    }
   },
   "source": [
    "\\begin{equation}\n",
    "Similarity = weight rooms \\times Rooms Similarity + weight loc \\times Location Similarity + weight price \\times Price Similarity\n",
    "\\end{equation}"
   ]
  },
  {
   "cell_type": "markdown",
   "metadata": {},
   "source": [
    "Where the Rooms Similarity is calculated as:"
   ]
  },
  {
   "cell_type": "markdown",
   "metadata": {
    "ExecuteTime": {
     "end_time": "2018-11-24T18:41:10.530118Z",
     "start_time": "2018-11-24T18:41:10.524132Z"
    }
   },
   "source": [
    "\\begin{equation}\n",
    "RoomsSimilarity = \\frac{1}{1 + RoomsDifference^{10}}\n",
    "\\end{equation}"
   ]
  },
  {
   "cell_type": "markdown",
   "metadata": {},
   "source": [
    "The Location Similarity was calculated using the library geopy and the function geodesic which allows to compute the precise ellipsoid distance from one point of coordinates to the other on earth."
   ]
  },
  {
   "cell_type": "markdown",
   "metadata": {
    "ExecuteTime": {
     "end_time": "2018-11-24T18:48:37.809514Z",
     "start_time": "2018-11-24T18:48:37.803531Z"
    }
   },
   "source": [
    "\\begin{equation}\n",
    "LocationSimilarity = \\frac{1}{1 + 0.1 \\times GeoDistance}\n",
    "\\end{equation}"
   ]
  },
  {
   "cell_type": "markdown",
   "metadata": {
    "ExecuteTime": {
     "end_time": "2018-11-24T18:51:00.721027Z",
     "start_time": "2018-11-24T18:51:00.715016Z"
    }
   },
   "source": [
    "And the Price Similarity is calculated as:"
   ]
  },
  {
   "cell_type": "markdown",
   "metadata": {
    "ExecuteTime": {
     "end_time": "2018-11-24T18:37:52.947488Z",
     "start_time": "2018-11-24T18:37:52.941501Z"
    }
   },
   "source": [
    "\\begin{equation}\n",
    "PriceSimilarity = \\frac{1}{\\frac{House Price}{Price Requested}}\n",
    "\\end{equation}"
   ]
  },
  {
   "cell_type": "markdown",
   "metadata": {},
   "source": [
    "Although if the number of rooms desired is smaller than the rooms of the house it shouldn't be a problem, thus in this cases the rooms similarity is set to 1.\n",
    "\n",
    "The same annalogy goes for the price, if the house is cheaper than the requested price the price similarity is also set to 1."
   ]
  },
  {
   "cell_type": "markdown",
   "metadata": {},
   "source": [
    "The weights chosen for this search that fit for all solutions were 0.15 for the price, 0.25 for the rooms and 0.6 for the location. This parameters have proven to satisfy for many different custom queries."
   ]
  },
  {
   "cell_type": "code",
   "execution_count": null,
   "metadata": {},
   "outputs": [],
   "source": [
    "weightsFFA = [0.15, 0.25, 0.6] #[price, rooms, location]"
   ]
  },
  {
   "cell_type": "markdown",
   "metadata": {},
   "source": [
    "### Further improving"
   ]
  },
  {
   "cell_type": "markdown",
   "metadata": {},
   "source": [
    "Let's allow the user to change the weights give on the previous custom ranking by inputing what is more relevant for him.\n",
    "\n",
    "The user might be very restrict with location and would not mind to pay more for example. Than the user can input the ranking by opting for price oriented or location oriented search."
   ]
  },
  {
   "cell_type": "markdown",
   "metadata": {},
   "source": [
    "Where the following weights would be applied if the user wants to have a more oriented ranking."
   ]
  },
  {
   "cell_type": "code",
   "execution_count": null,
   "metadata": {},
   "outputs": [],
   "source": [
    "weightsPrice = [0.7, 0.1, 0.2] #[price, rooms, location]\n",
    "weightsLoc = [0.1, 0.2, 0.7] #[price, rooms, location]"
   ]
  },
  {
   "cell_type": "markdown",
   "metadata": {},
   "source": [
    "## Example"
   ]
  },
  {
   "cell_type": "code",
   "execution_count": 46,
   "metadata": {
    "ExecuteTime": {
     "end_time": "2018-11-25T11:57:51.821216Z",
     "start_time": "2018-11-25T11:57:24.503836Z"
    },
    "scrolled": false
   },
   "outputs": [
    {
     "name": "stdout",
     "output_type": "stream",
     "text": [
      "Enter your search: a beach house\n",
      "How much would you pay at maximum? 300\n",
      "How many rooms do you want? 3\n",
      "Give us a location: 29.064693, -95.134938\n",
      "What is more important for you? The possible choices are:\n",
      "\t[0] Fit-for-all\n",
      "\t[1] Price oriented\n",
      "\t[2] Location oriented \n",
      "\t Your Choice: 0\n"
     ]
    }
   ],
   "source": [
    "#interface with the user\n",
    "querytext = str(input('Enter your search: '))\n",
    "\n",
    "queryinput =[]\n",
    "queryinput.append(int(input(\"How much would you pay at maximum? \")))\n",
    "queryinput.append(int(input(\"How many rooms do you want? \")))\n",
    "\n",
    "location = list(map(float, input(\"Give us a location: \").split(\", \")))\n",
    "for x in location:\n",
    "    queryinput.append(x)\n",
    "    \n",
    "orientation = int(input(\"What is more important for you? The possible choices are:\\n\\t[0] Fit-for-all\\n\\t[1] Price oriented\\n\\t[2] Location oriented \\n\\t Your Choice: \"))"
   ]
  },
  {
   "cell_type": "code",
   "execution_count": 33,
   "metadata": {
    "ExecuteTime": {
     "end_time": "2018-11-25T11:54:46.760389Z",
     "start_time": "2018-11-25T11:54:45.617449Z"
    }
   },
   "outputs": [],
   "source": [
    "cQuery = airbnb.customQuery(query= queryinput, textQuery= querytext, k=5, weightChoice= orientation)"
   ]
  },
  {
   "cell_type": "markdown",
   "metadata": {},
   "source": [
    "#### Standard, fit for both price and location"
   ]
  },
  {
   "cell_type": "code",
   "execution_count": 34,
   "metadata": {
    "ExecuteTime": {
     "end_time": "2018-11-25T11:54:48.500339Z",
     "start_time": "2018-11-25T11:54:48.489343Z"
    }
   },
   "outputs": [
    {
     "data": {
      "text/html": [
       "<div>\n",
       "<style scoped>\n",
       "    .dataframe tbody tr th:only-of-type {\n",
       "        vertical-align: middle;\n",
       "    }\n",
       "\n",
       "    .dataframe tbody tr th {\n",
       "        vertical-align: top;\n",
       "    }\n",
       "\n",
       "    .dataframe thead th {\n",
       "        text-align: right;\n",
       "    }\n",
       "</style>\n",
       "<table border=\"1\" class=\"dataframe\">\n",
       "  <thead>\n",
       "    <tr style=\"text-align: right;\">\n",
       "      <th></th>\n",
       "      <th>ranking</th>\n",
       "      <th>title</th>\n",
       "      <th>description</th>\n",
       "      <th>city</th>\n",
       "      <th>url</th>\n",
       "    </tr>\n",
       "  </thead>\n",
       "  <tbody>\n",
       "    <tr>\n",
       "      <th>14862</th>\n",
       "      <td>1</td>\n",
       "      <td>Salt Grass- Christmas Bay Great Fishing &amp; Kaya...</td>\n",
       "      <td>This Bay house is close to the beach and sits ...</td>\n",
       "      <td>Freeport</td>\n",
       "      <td>https://www.airbnb.com/rooms/13186000?location...</td>\n",
       "    </tr>\n",
       "    <tr>\n",
       "      <th>15733</th>\n",
       "      <td>2</td>\n",
       "      <td>Adorable Mid Century Modern Beach Cabin</td>\n",
       "      <td>Newly remodeled second row beach house with ne...</td>\n",
       "      <td>Freeport</td>\n",
       "      <td>https://www.airbnb.com/rooms/14185321?location...</td>\n",
       "    </tr>\n",
       "    <tr>\n",
       "      <th>14939</th>\n",
       "      <td>3</td>\n",
       "      <td>Charming Beach Front House</td>\n",
       "      <td>Charming &amp;amp; colorful beach house. 3 bedroom...</td>\n",
       "      <td>Freeport</td>\n",
       "      <td>https://www.airbnb.com/rooms/4532740?location=...</td>\n",
       "    </tr>\n",
       "    <tr>\n",
       "      <th>13294</th>\n",
       "      <td>4</td>\n",
       "      <td>Surfside paradise # 1</td>\n",
       "      <td>Comfortably sleeps 10 people. Open floor plan,...</td>\n",
       "      <td>Surfside Beach</td>\n",
       "      <td>https://www.airbnb.com/rooms/15073135?location...</td>\n",
       "    </tr>\n",
       "    <tr>\n",
       "      <th>17971</th>\n",
       "      <td>5</td>\n",
       "      <td>Beautiful custom home ON beach!</td>\n",
       "      <td>Welcome to our home, Sea Dreams Beach House! W...</td>\n",
       "      <td>Freeport</td>\n",
       "      <td>https://www.airbnb.com/rooms/6179121?location=...</td>\n",
       "    </tr>\n",
       "  </tbody>\n",
       "</table>\n",
       "</div>"
      ],
      "text/plain": [
       "       ranking                                              title  \\\n",
       "14862        1  Salt Grass- Christmas Bay Great Fishing & Kaya...   \n",
       "15733        2            Adorable Mid Century Modern Beach Cabin   \n",
       "14939        3                         Charming Beach Front House   \n",
       "13294        4                              Surfside paradise # 1   \n",
       "17971        5                    Beautiful custom home ON beach!   \n",
       "\n",
       "                                             description            city  \\\n",
       "14862  This Bay house is close to the beach and sits ...        Freeport   \n",
       "15733  Newly remodeled second row beach house with ne...        Freeport   \n",
       "14939  Charming &amp; colorful beach house. 3 bedroom...        Freeport   \n",
       "13294  Comfortably sleeps 10 people. Open floor plan,...  Surfside Beach   \n",
       "17971  Welcome to our home, Sea Dreams Beach House! W...        Freeport   \n",
       "\n",
       "                                                     url  \n",
       "14862  https://www.airbnb.com/rooms/13186000?location...  \n",
       "15733  https://www.airbnb.com/rooms/14185321?location...  \n",
       "14939  https://www.airbnb.com/rooms/4532740?location=...  \n",
       "13294  https://www.airbnb.com/rooms/15073135?location...  \n",
       "17971  https://www.airbnb.com/rooms/6179121?location=...  "
      ]
     },
     "execution_count": 34,
     "metadata": {},
     "output_type": "execute_result"
    }
   ],
   "source": [
    "cQuery"
   ]
  },
  {
   "cell_type": "markdown",
   "metadata": {},
   "source": [
    "#### Price oriented"
   ]
  },
  {
   "cell_type": "code",
   "execution_count": 35,
   "metadata": {
    "ExecuteTime": {
     "end_time": "2018-11-25T11:54:53.636661Z",
     "start_time": "2018-11-25T11:54:52.561541Z"
    }
   },
   "outputs": [
    {
     "data": {
      "text/html": [
       "<div>\n",
       "<style scoped>\n",
       "    .dataframe tbody tr th:only-of-type {\n",
       "        vertical-align: middle;\n",
       "    }\n",
       "\n",
       "    .dataframe tbody tr th {\n",
       "        vertical-align: top;\n",
       "    }\n",
       "\n",
       "    .dataframe thead th {\n",
       "        text-align: right;\n",
       "    }\n",
       "</style>\n",
       "<table border=\"1\" class=\"dataframe\">\n",
       "  <thead>\n",
       "    <tr style=\"text-align: right;\">\n",
       "      <th></th>\n",
       "      <th>ranking</th>\n",
       "      <th>title</th>\n",
       "      <th>description</th>\n",
       "      <th>city</th>\n",
       "      <th>url</th>\n",
       "    </tr>\n",
       "  </thead>\n",
       "  <tbody>\n",
       "    <tr>\n",
       "      <th>15733</th>\n",
       "      <td>1</td>\n",
       "      <td>Adorable Mid Century Modern Beach Cabin</td>\n",
       "      <td>Newly remodeled second row beach house with ne...</td>\n",
       "      <td>Freeport</td>\n",
       "      <td>https://www.airbnb.com/rooms/14185321?location...</td>\n",
       "    </tr>\n",
       "    <tr>\n",
       "      <th>14939</th>\n",
       "      <td>2</td>\n",
       "      <td>Charming Beach Front House</td>\n",
       "      <td>Charming &amp;amp; colorful beach house. 3 bedroom...</td>\n",
       "      <td>Freeport</td>\n",
       "      <td>https://www.airbnb.com/rooms/4532740?location=...</td>\n",
       "    </tr>\n",
       "    <tr>\n",
       "      <th>13294</th>\n",
       "      <td>3</td>\n",
       "      <td>Surfside paradise # 1</td>\n",
       "      <td>Comfortably sleeps 10 people. Open floor plan,...</td>\n",
       "      <td>Surfside Beach</td>\n",
       "      <td>https://www.airbnb.com/rooms/15073135?location...</td>\n",
       "    </tr>\n",
       "    <tr>\n",
       "      <th>18000</th>\n",
       "      <td>4</td>\n",
       "      <td>1026 Bluewater Hwy</td>\n",
       "      <td>Modern beach house on ocean front with direct ...</td>\n",
       "      <td>Surfside Beach</td>\n",
       "      <td>https://www.airbnb.com/rooms/13012994?location...</td>\n",
       "    </tr>\n",
       "    <tr>\n",
       "      <th>15586</th>\n",
       "      <td>5</td>\n",
       "      <td>Back To The Beach</td>\n",
       "      <td>Our 3 bedroom 2 bath beach house can comfortab...</td>\n",
       "      <td>Surfside Beach</td>\n",
       "      <td>https://www.airbnb.com/rooms/18009041?location...</td>\n",
       "    </tr>\n",
       "  </tbody>\n",
       "</table>\n",
       "</div>"
      ],
      "text/plain": [
       "       ranking                                    title  \\\n",
       "15733        1  Adorable Mid Century Modern Beach Cabin   \n",
       "14939        2               Charming Beach Front House   \n",
       "13294        3                    Surfside paradise # 1   \n",
       "18000        4                       1026 Bluewater Hwy   \n",
       "15586        5                        Back To The Beach   \n",
       "\n",
       "                                             description            city  \\\n",
       "15733  Newly remodeled second row beach house with ne...        Freeport   \n",
       "14939  Charming &amp; colorful beach house. 3 bedroom...        Freeport   \n",
       "13294  Comfortably sleeps 10 people. Open floor plan,...  Surfside Beach   \n",
       "18000  Modern beach house on ocean front with direct ...  Surfside Beach   \n",
       "15586  Our 3 bedroom 2 bath beach house can comfortab...  Surfside Beach   \n",
       "\n",
       "                                                     url  \n",
       "15733  https://www.airbnb.com/rooms/14185321?location...  \n",
       "14939  https://www.airbnb.com/rooms/4532740?location=...  \n",
       "13294  https://www.airbnb.com/rooms/15073135?location...  \n",
       "18000  https://www.airbnb.com/rooms/13012994?location...  \n",
       "15586  https://www.airbnb.com/rooms/18009041?location...  "
      ]
     },
     "execution_count": 35,
     "metadata": {},
     "output_type": "execute_result"
    }
   ],
   "source": [
    "# weightChoice= 1\n",
    "cQuery = airbnb.customQuery(query= queryinput, textQuery= querytext, k=5, weightChoice= 1)\n",
    "cQuery"
   ]
  },
  {
   "cell_type": "markdown",
   "metadata": {
    "ExecuteTime": {
     "end_time": "2018-11-25T11:36:08.875183Z",
     "start_time": "2018-11-25T11:36:08.858228Z"
    }
   },
   "source": [
    "#### Location oriented"
   ]
  },
  {
   "cell_type": "code",
   "execution_count": 36,
   "metadata": {
    "ExecuteTime": {
     "end_time": "2018-11-25T11:54:57.117909Z",
     "start_time": "2018-11-25T11:54:56.012864Z"
    },
    "scrolled": true
   },
   "outputs": [
    {
     "data": {
      "text/html": [
       "<div>\n",
       "<style scoped>\n",
       "    .dataframe tbody tr th:only-of-type {\n",
       "        vertical-align: middle;\n",
       "    }\n",
       "\n",
       "    .dataframe tbody tr th {\n",
       "        vertical-align: top;\n",
       "    }\n",
       "\n",
       "    .dataframe thead th {\n",
       "        text-align: right;\n",
       "    }\n",
       "</style>\n",
       "<table border=\"1\" class=\"dataframe\">\n",
       "  <thead>\n",
       "    <tr style=\"text-align: right;\">\n",
       "      <th></th>\n",
       "      <th>ranking</th>\n",
       "      <th>title</th>\n",
       "      <th>description</th>\n",
       "      <th>city</th>\n",
       "      <th>url</th>\n",
       "    </tr>\n",
       "  </thead>\n",
       "  <tbody>\n",
       "    <tr>\n",
       "      <th>14862</th>\n",
       "      <td>1</td>\n",
       "      <td>Salt Grass- Christmas Bay Great Fishing &amp; Kaya...</td>\n",
       "      <td>This Bay house is close to the beach and sits ...</td>\n",
       "      <td>Freeport</td>\n",
       "      <td>https://www.airbnb.com/rooms/13186000?location...</td>\n",
       "    </tr>\n",
       "    <tr>\n",
       "      <th>17971</th>\n",
       "      <td>2</td>\n",
       "      <td>Beautiful custom home ON beach!</td>\n",
       "      <td>Welcome to our home, Sea Dreams Beach House! W...</td>\n",
       "      <td>Freeport</td>\n",
       "      <td>https://www.airbnb.com/rooms/6179121?location=...</td>\n",
       "    </tr>\n",
       "    <tr>\n",
       "      <th>15733</th>\n",
       "      <td>3</td>\n",
       "      <td>Adorable Mid Century Modern Beach Cabin</td>\n",
       "      <td>Newly remodeled second row beach house with ne...</td>\n",
       "      <td>Freeport</td>\n",
       "      <td>https://www.airbnb.com/rooms/14185321?location...</td>\n",
       "    </tr>\n",
       "    <tr>\n",
       "      <th>14939</th>\n",
       "      <td>4</td>\n",
       "      <td>Charming Beach Front House</td>\n",
       "      <td>Charming &amp;amp; colorful beach house. 3 bedroom...</td>\n",
       "      <td>Freeport</td>\n",
       "      <td>https://www.airbnb.com/rooms/4532740?location=...</td>\n",
       "    </tr>\n",
       "    <tr>\n",
       "      <th>13294</th>\n",
       "      <td>5</td>\n",
       "      <td>Surfside paradise # 1</td>\n",
       "      <td>Comfortably sleeps 10 people. Open floor plan,...</td>\n",
       "      <td>Surfside Beach</td>\n",
       "      <td>https://www.airbnb.com/rooms/15073135?location...</td>\n",
       "    </tr>\n",
       "  </tbody>\n",
       "</table>\n",
       "</div>"
      ],
      "text/plain": [
       "       ranking                                              title  \\\n",
       "14862        1  Salt Grass- Christmas Bay Great Fishing & Kaya...   \n",
       "17971        2                    Beautiful custom home ON beach!   \n",
       "15733        3            Adorable Mid Century Modern Beach Cabin   \n",
       "14939        4                         Charming Beach Front House   \n",
       "13294        5                              Surfside paradise # 1   \n",
       "\n",
       "                                             description            city  \\\n",
       "14862  This Bay house is close to the beach and sits ...        Freeport   \n",
       "17971  Welcome to our home, Sea Dreams Beach House! W...        Freeport   \n",
       "15733  Newly remodeled second row beach house with ne...        Freeport   \n",
       "14939  Charming &amp; colorful beach house. 3 bedroom...        Freeport   \n",
       "13294  Comfortably sleeps 10 people. Open floor plan,...  Surfside Beach   \n",
       "\n",
       "                                                     url  \n",
       "14862  https://www.airbnb.com/rooms/13186000?location...  \n",
       "17971  https://www.airbnb.com/rooms/6179121?location=...  \n",
       "15733  https://www.airbnb.com/rooms/14185321?location...  \n",
       "14939  https://www.airbnb.com/rooms/4532740?location=...  \n",
       "13294  https://www.airbnb.com/rooms/15073135?location...  "
      ]
     },
     "execution_count": 36,
     "metadata": {},
     "output_type": "execute_result"
    }
   ],
   "source": [
    "# weightChoice= 2\n",
    "cQuery = airbnb.customQuery(query= queryinput, textQuery= querytext, k=5, weightChoice= 2)\n",
    "cQuery"
   ]
  },
  {
   "cell_type": "markdown",
   "metadata": {
    "ExecuteTime": {
     "end_time": "2018-11-25T11:58:19.450994Z",
     "start_time": "2018-11-25T11:58:19.447008Z"
    }
   },
   "source": [
    "#### Wrong option notification"
   ]
  },
  {
   "cell_type": "markdown",
   "metadata": {},
   "source": [
    "In order to be user friendly, the user is notified when it is inputed a wrong weight option."
   ]
  },
  {
   "cell_type": "code",
   "execution_count": 51,
   "metadata": {
    "ExecuteTime": {
     "end_time": "2018-11-25T13:05:34.664866Z",
     "start_time": "2018-11-25T13:05:33.509931Z"
    },
    "scrolled": true
   },
   "outputs": [
    {
     "name": "stdout",
     "output_type": "stream",
     "text": [
      "[LOG]: You have chosen a non-existent choice\n",
      "[LOG]: The possible choices are:\n",
      "\t[0]:= Fit-for-all\n",
      "\t[1]:= Price oriented\n",
      "\t[2]:= Location oriented\n",
      "[LOG]: The [0]Fit-for-all solution has been selected by default.\n"
     ]
    }
   ],
   "source": [
    "cQuery = airbnb.customQuery(query= queryinput, textQuery= querytext, k=5, weightChoice= 3)"
   ]
  },
  {
   "cell_type": "code",
   "execution_count": 52,
   "metadata": {
    "ExecuteTime": {
     "end_time": "2018-11-25T13:05:36.835919Z",
     "start_time": "2018-11-25T13:05:36.819962Z"
    }
   },
   "outputs": [
    {
     "data": {
      "text/html": [
       "<div>\n",
       "<style scoped>\n",
       "    .dataframe tbody tr th:only-of-type {\n",
       "        vertical-align: middle;\n",
       "    }\n",
       "\n",
       "    .dataframe tbody tr th {\n",
       "        vertical-align: top;\n",
       "    }\n",
       "\n",
       "    .dataframe thead th {\n",
       "        text-align: right;\n",
       "    }\n",
       "</style>\n",
       "<table border=\"1\" class=\"dataframe\">\n",
       "  <thead>\n",
       "    <tr style=\"text-align: right;\">\n",
       "      <th></th>\n",
       "      <th>ranking</th>\n",
       "      <th>title</th>\n",
       "      <th>description</th>\n",
       "      <th>city</th>\n",
       "      <th>url</th>\n",
       "    </tr>\n",
       "  </thead>\n",
       "  <tbody>\n",
       "    <tr>\n",
       "      <th>14862</th>\n",
       "      <td>1</td>\n",
       "      <td>Salt Grass- Christmas Bay Great Fishing &amp; Kaya...</td>\n",
       "      <td>This Bay house is close to the beach and sits ...</td>\n",
       "      <td>Freeport</td>\n",
       "      <td>https://www.airbnb.com/rooms/13186000?location...</td>\n",
       "    </tr>\n",
       "    <tr>\n",
       "      <th>15733</th>\n",
       "      <td>2</td>\n",
       "      <td>Adorable Mid Century Modern Beach Cabin</td>\n",
       "      <td>Newly remodeled second row beach house with ne...</td>\n",
       "      <td>Freeport</td>\n",
       "      <td>https://www.airbnb.com/rooms/14185321?location...</td>\n",
       "    </tr>\n",
       "    <tr>\n",
       "      <th>14939</th>\n",
       "      <td>3</td>\n",
       "      <td>Charming Beach Front House</td>\n",
       "      <td>Charming &amp;amp; colorful beach house. 3 bedroom...</td>\n",
       "      <td>Freeport</td>\n",
       "      <td>https://www.airbnb.com/rooms/4532740?location=...</td>\n",
       "    </tr>\n",
       "    <tr>\n",
       "      <th>13294</th>\n",
       "      <td>4</td>\n",
       "      <td>Surfside paradise # 1</td>\n",
       "      <td>Comfortably sleeps 10 people. Open floor plan,...</td>\n",
       "      <td>Surfside Beach</td>\n",
       "      <td>https://www.airbnb.com/rooms/15073135?location...</td>\n",
       "    </tr>\n",
       "    <tr>\n",
       "      <th>17971</th>\n",
       "      <td>5</td>\n",
       "      <td>Beautiful custom home ON beach!</td>\n",
       "      <td>Welcome to our home, Sea Dreams Beach House! W...</td>\n",
       "      <td>Freeport</td>\n",
       "      <td>https://www.airbnb.com/rooms/6179121?location=...</td>\n",
       "    </tr>\n",
       "  </tbody>\n",
       "</table>\n",
       "</div>"
      ],
      "text/plain": [
       "       ranking                                              title  \\\n",
       "14862        1  Salt Grass- Christmas Bay Great Fishing & Kaya...   \n",
       "15733        2            Adorable Mid Century Modern Beach Cabin   \n",
       "14939        3                         Charming Beach Front House   \n",
       "13294        4                              Surfside paradise # 1   \n",
       "17971        5                    Beautiful custom home ON beach!   \n",
       "\n",
       "                                             description            city  \\\n",
       "14862  This Bay house is close to the beach and sits ...        Freeport   \n",
       "15733  Newly remodeled second row beach house with ne...        Freeport   \n",
       "14939  Charming &amp; colorful beach house. 3 bedroom...        Freeport   \n",
       "13294  Comfortably sleeps 10 people. Open floor plan,...  Surfside Beach   \n",
       "17971  Welcome to our home, Sea Dreams Beach House! W...        Freeport   \n",
       "\n",
       "                                                     url  \n",
       "14862  https://www.airbnb.com/rooms/13186000?location...  \n",
       "15733  https://www.airbnb.com/rooms/14185321?location...  \n",
       "14939  https://www.airbnb.com/rooms/4532740?location=...  \n",
       "13294  https://www.airbnb.com/rooms/15073135?location...  \n",
       "17971  https://www.airbnb.com/rooms/6179121?location=...  "
      ]
     },
     "execution_count": 52,
     "metadata": {},
     "output_type": "execute_result"
    }
   ],
   "source": [
    "cQuery"
   ]
  },
  {
   "cell_type": "markdown",
   "metadata": {},
   "source": [
    "# Bonus Step: Make a nice visualization!"
   ]
  },
  {
   "cell_type": "markdown",
   "metadata": {},
   "source": [
    "This section consists in displaying the user a map with the houses available in a certain location."
   ]
  },
  {
   "cell_type": "markdown",
   "metadata": {},
   "source": [
    "The user will input a latitude and longitude of a specific location and the radius of the search. On a platform the user could click on a map and the code acquire this location."
   ]
  },
  {
   "cell_type": "code",
   "execution_count": 3,
   "metadata": {
    "ExecuteTime": {
     "end_time": "2018-11-25T13:59:50.462868Z",
     "start_time": "2018-11-25T13:59:46.813788Z"
    },
    "scrolled": true
   },
   "outputs": [
    {
     "name": "stdout",
     "output_type": "stream",
     "text": [
      "Choose a location: 32.779594, -96.800768\n",
      "Insert the radius distance in meters: 2000\n"
     ]
    }
   ],
   "source": [
    "location =  list(map(float, input('Choose a location: ').split(', ')))\n",
    "coordinates = (float(location[0]), float(location[1]))\n",
    "max_distance = input(\"Insert the radius distance in meters: \")\n",
    "#test (32.779594, -96.800768)\n",
    "\n",
    "#Intialize the folium map\n",
    "m = folium.Map(location = coordinates, zoom_start=13)"
   ]
  },
  {
   "cell_type": "markdown",
   "metadata": {},
   "source": [
    "Creating a circle with the radio of the search inputed by the user and adding it to the map."
   ]
  },
  {
   "cell_type": "code",
   "execution_count": 74,
   "metadata": {
    "ExecuteTime": {
     "end_time": "2018-11-24T19:51:50.972149Z",
     "start_time": "2018-11-24T19:51:50.965167Z"
    }
   },
   "outputs": [
    {
     "data": {
      "text/plain": [
       "<folium.vector_layers.Circle at 0x1f976fda780>"
      ]
     },
     "execution_count": 74,
     "metadata": {},
     "output_type": "execute_result"
    }
   ],
   "source": [
    "folium.Circle(\n",
    "    radius= float(max_distance),\n",
    "    location=(coordinates),\n",
    "    color='#3186cc',\n",
    "    fill=True,\n",
    "    fill_color='#3186cc'\n",
    ").add_to(m)"
   ]
  },
  {
   "cell_type": "code",
   "execution_count": null,
   "metadata": {},
   "outputs": [],
   "source": [
    "m"
   ]
  },
  {
   "cell_type": "markdown",
   "metadata": {},
   "source": [
    "In this step we go through every document, retrieve the house location and price and save it in a new list."
   ]
  },
  {
   "cell_type": "code",
   "execution_count": 79,
   "metadata": {
    "ExecuteTime": {
     "end_time": "2018-11-24T19:56:21.354455Z",
     "start_time": "2018-11-24T19:54:39.376959Z"
    }
   },
   "outputs": [],
   "source": [
    "dir_path = airbnb.dir_path\n",
    "review_dir = airbnb.review_dir\n",
    "l_temp =[]\n",
    "for filePath in listdir(dir_path+review_dir):\n",
    "    data = pd.read_csv(dir_path+review_dir+ filePath, delimiter = '\\t',header = None, encoding = 'utf8')\n",
    "    latitude = float(data.values[0][5])\n",
    "    longitude = float(data.values[0][6])\n",
    "    #title = str(data.values[0][7]).strip()\n",
    "    average_rate_per_night = str(data.values[0][0]).strip()\n",
    "    l_temp.append((latitude, longitude, average_rate_per_night))    "
   ]
  },
  {
   "cell_type": "markdown",
   "metadata": {},
   "source": [
    "Now that we have the information of every house available, let's see which of those have a distance to the target location smaller than the radius inputed by the user and mark it on the map."
   ]
  },
  {
   "cell_type": "code",
   "execution_count": 81,
   "metadata": {
    "ExecuteTime": {
     "end_time": "2018-11-24T20:01:17.186098Z",
     "start_time": "2018-11-24T20:01:11.507473Z"
    }
   },
   "outputs": [],
   "source": [
    "folium.Marker(location = coordinates,\n",
    "              icon=folium.Icon(color='green',icon='home')\n",
    "             ).add_to(m)\n",
    "for i in l_temp: \n",
    "    if (distance.geodesic(coordinates, (i[0],i[1]), ellipsoid = (6377., 6356., 1 / 297.)).meters <= float(max_distance)):\n",
    "        folium.Marker(location = (i[0],i[1]), popup = i[2], icon = folium.Icon(color ='blue', icon='home')\n",
    "                     ).add_to(m)"
   ]
  },
  {
   "cell_type": "markdown",
   "metadata": {},
   "source": [
    "Saving the results"
   ]
  },
  {
   "cell_type": "code",
   "execution_count": 83,
   "metadata": {
    "ExecuteTime": {
     "end_time": "2018-11-24T20:01:21.689986Z",
     "start_time": "2018-11-24T20:01:21.265047Z"
    }
   },
   "outputs": [],
   "source": [
    "m.save(os.path.join('results', r\"C:\\Users\\guilh\\Desktop\\ADM\\HW3\\HW03\\map.html\"))"
   ]
  },
  {
   "cell_type": "markdown",
   "metadata": {},
   "source": [
    "The created is available on this repository. Click [here](https://github.com/guilhermevescovi/Airbnb-Search-Engine/blob/master/map.html) to go to it."
   ]
  },
  {
   "cell_type": "code",
   "execution_count": null,
   "metadata": {},
   "outputs": [],
   "source": [
    "m"
   ]
  }
 ],
 "metadata": {
  "kernelspec": {
   "display_name": "Python 3",
   "language": "python",
   "name": "python3"
  },
  "varInspector": {
   "cols": {
    "lenName": 16,
    "lenType": 16,
    "lenVar": 40
   },
   "kernels_config": {
    "python": {
     "delete_cmd_postfix": "",
     "delete_cmd_prefix": "del ",
     "library": "var_list.py",
     "varRefreshCmd": "print(var_dic_list())"
    },
    "r": {
     "delete_cmd_postfix": ") ",
     "delete_cmd_prefix": "rm(",
     "library": "var_list.r",
     "varRefreshCmd": "cat(var_dic_list()) "
    }
   },
   "types_to_exclude": [
    "module",
    "function",
    "builtin_function_or_method",
    "instance",
    "_Feature"
   ],
   "window_display": false
  }
 },
 "nbformat": 4,
 "nbformat_minor": 2
}
