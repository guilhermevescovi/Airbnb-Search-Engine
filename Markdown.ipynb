{
 "cells": [
  {
   "cell_type": "markdown",
   "metadata": {
    "ExecuteTime": {
     "end_time": "2018-11-14T13:46:22.088990Z",
     "start_time": "2018-11-14T13:46:22.081011Z"
    }
   },
   "source": [
    "Algorithmic Methods for Data Mining\n",
    "==============================\n"
   ]
  },
  {
   "cell_type": "markdown",
   "metadata": {},
   "source": [
    "## Homework 3 - Airbnb Search Engine\n",
    "### Group #17 - Giulia Scialanga, Guilherme Nicchio, Marco Minici\n",
    "##### 26/11/2018"
   ]
  },
  {
   "cell_type": "markdown",
   "metadata": {},
   "source": [
    "The goal of this project consists in buiding a search engine over a data base of Airbnb houses. \n",
    "\n",
    "The code returns the houses of the data base which matches the descriptions entered by an user query. "
   ]
  },
  {
   "cell_type": "markdown",
   "metadata": {
    "ExecuteTime": {
     "end_time": "2018-11-16T11:55:05.188327Z",
     "start_time": "2018-11-16T11:55:05.182344Z"
    }
   },
   "source": [
    "User query means the sentence an user enter in a search field, for example: \"A beuatiful house with beach and garden\""
   ]
  },
  {
   "cell_type": "markdown",
   "metadata": {},
   "source": [
    "For this project was used the following libraries:"
   ]
  },
  {
   "cell_type": "code",
   "execution_count": 1,
   "metadata": {
    "ExecuteTime": {
     "end_time": "2018-11-24T17:21:38.243200Z",
     "start_time": "2018-11-24T17:21:37.141528Z"
    }
   },
   "outputs": [],
   "source": [
    "from os.path import isdir\n",
    "from os import mkdir\n",
    "import pandas as pd\n",
    "import numpy as np\n",
    "import csv\n",
    "import math\n",
    "from os import listdir\n",
    "from os.path import isfile\n",
    "from os import remove\n",
    "from tqdm import tqdm\n",
    "from sklearn.feature_extraction.text import TfidfVectorizer\n",
    "from geopy import distance\n",
    "import folium\n",
    "import os\n",
    "from heapq import nlargest\n",
    "from nltk import SnowballStemmer\n",
    "from nltk.tokenize import RegexpTokenizer\n",
    "from nltk.corpus import stopwords\n",
    "import re\n",
    "import string\n",
    "import pickle\n",
    "import inflect"
   ]
  },
  {
   "cell_type": "markdown",
   "metadata": {},
   "source": [
    "The functions created for the purpose of this work are in the file **airbnb_search_engine.py** located in the repository. For displaying the results of this work let's import it and assign the main class of it to a variable."
   ]
  },
  {
   "cell_type": "code",
   "execution_count": 13,
   "metadata": {
    "ExecuteTime": {
     "end_time": "2018-11-24T17:27:13.715571Z",
     "start_time": "2018-11-24T17:27:13.680666Z"
    }
   },
   "outputs": [],
   "source": [
    "import airbnb_search_engine\n",
    "airbnb = airbnb_search_engine.AirBnbPy()"
   ]
  },
  {
   "cell_type": "markdown",
   "metadata": {},
   "source": [
    "# The Data"
   ]
  },
  {
   "cell_type": "markdown",
   "metadata": {},
   "source": [
    "The data used is a csv file with the following columns."
   ]
  },
  {
   "cell_type": "code",
   "execution_count": 14,
   "metadata": {
    "ExecuteTime": {
     "end_time": "2018-11-24T17:27:17.524653Z",
     "start_time": "2018-11-24T17:27:17.252853Z"
    },
    "scrolled": false
   },
   "outputs": [
    {
     "data": {
      "text/html": [
       "<div>\n",
       "<style scoped>\n",
       "    .dataframe tbody tr th:only-of-type {\n",
       "        vertical-align: middle;\n",
       "    }\n",
       "\n",
       "    .dataframe tbody tr th {\n",
       "        vertical-align: top;\n",
       "    }\n",
       "\n",
       "    .dataframe thead th {\n",
       "        text-align: right;\n",
       "    }\n",
       "</style>\n",
       "<table border=\"1\" class=\"dataframe\">\n",
       "  <thead>\n",
       "    <tr style=\"text-align: right;\">\n",
       "      <th></th>\n",
       "      <th>average_rate_per_night</th>\n",
       "      <th>bedrooms_count</th>\n",
       "      <th>city</th>\n",
       "      <th>date_of_listing</th>\n",
       "      <th>description</th>\n",
       "      <th>latitude</th>\n",
       "      <th>longitude</th>\n",
       "      <th>title</th>\n",
       "      <th>url</th>\n",
       "    </tr>\n",
       "  </thead>\n",
       "  <tbody>\n",
       "    <tr>\n",
       "      <th>1</th>\n",
       "      <td>$27</td>\n",
       "      <td>2</td>\n",
       "      <td>Humble</td>\n",
       "      <td>May 2016</td>\n",
       "      <td>Welcome to stay in private room with queen bed...</td>\n",
       "      <td>30.020138</td>\n",
       "      <td>-95.293996</td>\n",
       "      <td>2 Private rooms/bathroom 10min from IAH airport</td>\n",
       "      <td>https://www.airbnb.com/rooms/18520444?location...</td>\n",
       "    </tr>\n",
       "    <tr>\n",
       "      <th>2</th>\n",
       "      <td>$149</td>\n",
       "      <td>4</td>\n",
       "      <td>San Antonio</td>\n",
       "      <td>November 2010</td>\n",
       "      <td>Stylish, fully remodeled home in upscale NW – ...</td>\n",
       "      <td>29.503068</td>\n",
       "      <td>-98.447688</td>\n",
       "      <td>Unique Location! Alamo Heights - Designer Insp...</td>\n",
       "      <td>https://www.airbnb.com/rooms/17481455?location...</td>\n",
       "    </tr>\n",
       "    <tr>\n",
       "      <th>3</th>\n",
       "      <td>$59</td>\n",
       "      <td>1</td>\n",
       "      <td>Houston</td>\n",
       "      <td>January 2017</td>\n",
       "      <td>'River house on island close to the city' \\nA ...</td>\n",
       "      <td>29.829352</td>\n",
       "      <td>-95.081549</td>\n",
       "      <td>River house near the city</td>\n",
       "      <td>https://www.airbnb.com/rooms/16926307?location...</td>\n",
       "    </tr>\n",
       "    <tr>\n",
       "      <th>4</th>\n",
       "      <td>$60</td>\n",
       "      <td>1</td>\n",
       "      <td>Bryan</td>\n",
       "      <td>February 2016</td>\n",
       "      <td>Private bedroom in a cute little home situated...</td>\n",
       "      <td>30.637304</td>\n",
       "      <td>-96.337846</td>\n",
       "      <td>Private Room Close to Campus</td>\n",
       "      <td>https://www.airbnb.com/rooms/11839729?location...</td>\n",
       "    </tr>\n",
       "    <tr>\n",
       "      <th>5</th>\n",
       "      <td>$75</td>\n",
       "      <td>2</td>\n",
       "      <td>Fort Worth</td>\n",
       "      <td>February 2017</td>\n",
       "      <td>Welcome to our original 1920's home. We recent...</td>\n",
       "      <td>32.747097</td>\n",
       "      <td>-97.286434</td>\n",
       "      <td>The Porch</td>\n",
       "      <td>https://www.airbnb.com/rooms/17325114?location...</td>\n",
       "    </tr>\n",
       "  </tbody>\n",
       "</table>\n",
       "</div>"
      ],
      "text/plain": [
       "  average_rate_per_night bedrooms_count         city date_of_listing  \\\n",
       "1                    $27              2       Humble        May 2016   \n",
       "2                   $149              4  San Antonio   November 2010   \n",
       "3                    $59              1      Houston    January 2017   \n",
       "4                    $60              1        Bryan   February 2016   \n",
       "5                    $75              2   Fort Worth   February 2017   \n",
       "\n",
       "                                         description   latitude  longitude  \\\n",
       "1  Welcome to stay in private room with queen bed...  30.020138 -95.293996   \n",
       "2  Stylish, fully remodeled home in upscale NW – ...  29.503068 -98.447688   \n",
       "3  'River house on island close to the city' \\nA ...  29.829352 -95.081549   \n",
       "4  Private bedroom in a cute little home situated...  30.637304 -96.337846   \n",
       "5  Welcome to our original 1920's home. We recent...  32.747097 -97.286434   \n",
       "\n",
       "                                               title  \\\n",
       "1    2 Private rooms/bathroom 10min from IAH airport   \n",
       "2  Unique Location! Alamo Heights - Designer Insp...   \n",
       "3                          River house near the city   \n",
       "4                       Private Room Close to Campus   \n",
       "5                                          The Porch   \n",
       "\n",
       "                                                 url  \n",
       "1  https://www.airbnb.com/rooms/18520444?location...  \n",
       "2  https://www.airbnb.com/rooms/17481455?location...  \n",
       "3  https://www.airbnb.com/rooms/16926307?location...  \n",
       "4  https://www.airbnb.com/rooms/11839729?location...  \n",
       "5  https://www.airbnb.com/rooms/17325114?location...  "
      ]
     },
     "execution_count": 14,
     "metadata": {},
     "output_type": "execute_result"
    }
   ],
   "source": [
    "data = airbnb.loadData()\n",
    "data.head()"
   ]
  },
  {
   "cell_type": "markdown",
   "metadata": {},
   "source": [
    "The first goal on the process is to match the user query with descriptions and tittles of the houses."
   ]
  },
  {
   "cell_type": "markdown",
   "metadata": {},
   "source": [
    "## Cleaning the data"
   ]
  },
  {
   "cell_type": "markdown",
   "metadata": {},
   "source": [
    "#### Cleaning process:\n",
    "\n",
    "It was noticed that the data base has some \"noise\" within it, for example empty cells (NA) in location coordinates, title and description which is essential for the concept of search engine built and the houses of the respective residences won't produce any match to an entered query.\n",
    "\n",
    "It was also noticed duplicated cells, that sometimes are system error or a house entered in the system twice by the owner, in order to avoid a duplicated outcome for the query the duplicated cells will be dropped out of the data base.\n",
    "\n",
    "Cleaning process:\n",
    "\n",
    "-Delete all rows with (lat,long) equal to NA since if an house is not locatable it is useless for a customer.\n",
    "\n",
    "-Delete rows with both description and title equal to NA since it wouldn't be possible to match the user query.\n",
    "\n",
    "-Retain all others rows, maybe later penalizing records with NA values for other columns(e.g.:bedrooms_count)."
   ]
  },
  {
   "cell_type": "markdown",
   "metadata": {
    "ExecuteTime": {
     "end_time": "2018-11-16T11:40:27.638942Z",
     "start_time": "2018-11-16T11:40:27.633956Z"
    }
   },
   "source": [
    "#### 1.1.1 Load the data.csv\n",
    "\n",
    "- read csv file with pandas csv read.\n",
    "\n",
    "#### 1.1.2 Call cleandata()\n",
    "\n",
    "- Gets just data which has not null in latitude column;\n",
    "\n",
    "- Drop NA's from description and title;\n",
    "\n",
    "- Drop all duplicated rows;\n",
    "\n",
    "- Returns the data.\n"
   ]
  },
  {
   "cell_type": "markdown",
   "metadata": {},
   "source": [
    "## Pre-processing the data and creating Tsv files for each house\n",
    "At this point there is a data frame with duplicated removed and empty fields removed.\n",
    "The next step is to go through each row of the data frame process it and write a tsv file with it."
   ]
  },
  {
   "cell_type": "markdown",
   "metadata": {},
   "source": [
    "Before diving into text and feature extraction, the first step will be further treating the data in order to obtain better features. We will achieve this by doing some of the basic _*pre-processing*_ steps on our data, for this it was used the library NLTK which has many features for natural language processing."
   ]
  },
  {
   "cell_type": "markdown",
   "metadata": {},
   "source": [
    "### Pre-processing"
   ]
  },
  {
   "cell_type": "markdown",
   "metadata": {},
   "source": [
    "###### Lower case\n",
    "The first pre-processing step is to transform our descriptions and titles into lower case. This avoids having multiple copies of the same words. For example, while calculating the word count, ‘House’ and ‘house’ would be taken as different words."
   ]
  },
  {
   "cell_type": "markdown",
   "metadata": {},
   "source": [
    "##### Tokenization\n",
    "Tokenization refers to dividing the text into a sequence of words or sentences."
   ]
  },
  {
   "cell_type": "markdown",
   "metadata": {},
   "source": [
    "##### Removing Punctuation and Stop Words\n",
    "The next step is to remove punctuation and stopwords, as it doesn’t add any extra information while treating text data. Therefore removing all instances of it will help us reduce the size of the data."
   ]
  },
  {
   "cell_type": "markdown",
   "metadata": {},
   "source": [
    "##### Stemming\n",
    "Stemming refers to the removal of suffices, like “ing”, “ly”, “s”, etc. by a simple rule-based approach. For this purpose, it will be used SnowballStemmer from the NLTK library."
   ]
  },
  {
   "cell_type": "markdown",
   "metadata": {},
   "source": [
    "##### Removing non-enlish characters\n",
    "When handling the data was noticed non-english texts, for example descriptions entered in chinese language can bring problematics when processing the text. In order to solve this issue was created a function to test if the description an title are indeed using english characters, therefore, the data just proceed for process and creating tsv file if the english test function returns true for the test."
   ]
  },
  {
   "cell_type": "markdown",
   "metadata": {},
   "source": [
    "### Creating TSV files\n",
    "After pre processing the text we join the description and title text and replace then in the original field, proceeding to the tsv file creation. The treated data has 18259 rolls which will result in the same number of tsv files for the analysis of the search engine with the title and description properly pre-processed"
   ]
  },
  {
   "cell_type": "markdown",
   "metadata": {},
   "source": [
    "    1. calls createAllReviews\n",
    "       Calls CreateTSV to all lines of the dataframe com .apply(lambda)\n",
    "        2.CreateTSV (inside a line of the dataframe the following will happen)\n",
    "            If description is empty (.isna) writes \"NaN\" else calls _nltkProcess\n",
    "            The same for title\n",
    "                3. _nltkProcess\n",
    "                    String lower\n",
    "                    4. calls _setupNltk\n",
    "                        Lazy initialization of objects needed to preprocess strings\n",
    "                        tokenizer = RegexpTokenizer(r'\\w+')\n",
    "                        stopwords = set(stopwords.words('english'))\n",
    "                        stemmer = SnowballStemmer('english') \n",
    "                    Join the result and return\n",
    "                5. Calls isEnglish() to test over each word int the line if they are in english and not chinese\n",
    "                    Try to encode into english, if fails return FALSE for test \"is english\"\n",
    "                    If succeeds return TRUE for the test\n",
    "                iI returned TRUE goes on to create the file, if False returns from CreateTSV and don't create the file\n",
    "                open the file to write using with open(self.dir_path+self.review_dir+\"doc_\"+str(x.name)+\".tsv\", 'w') as file:\n",
    "                try to write it\n",
    "                    except (if fails to write) save the index (x.name) to delete the file afterwards"
   ]
  },
  {
   "cell_type": "markdown",
   "metadata": {},
   "source": [
    "# Building the Search Engine"
   ]
  },
  {
   "cell_type": "markdown",
   "metadata": {},
   "source": [
    "This section consists in:\n",
    "\n",
    "- Build the encoding for the words in the corpus. To each word is associated a unique int ID.\n",
    "\n",
    "- Create the reverted index. To each word ID is associated the set of documents which contains that word.\n",
    "\n",
    "- Realize an interface to perform queries to the search engine."
   ]
  },
  {
   "cell_type": "markdown",
   "metadata": {
    "ExecuteTime": {
     "end_time": "2018-11-16T12:58:16.369236Z",
     "start_time": "2018-11-16T12:58:16.365271Z"
    }
   },
   "source": [
    "### Building the Encoding\n",
    "At this point the tsv files are created and pre-processed. The next step is to create a dictionary for the vocabulary of words present in all the documents, in this dictionary each word corresponds to a single number. This process will help analyse which documents have the respective word."
   ]
  },
  {
   "cell_type": "markdown",
   "metadata": {},
   "source": [
    "Example of what is the target at this point: {\"car\":1, \"house\":2}"
   ]
  },
  {
   "cell_type": "markdown",
   "metadata": {},
   "source": [
    "This step was approached browsing through every file's title and description and adding its words into an empty dictionary. But before adding it is checked if the word isn't yet in the dictionary, when adding the word to the dictionary its key value is a counter of how many unique words were collected so far. "
   ]
  },
  {
   "cell_type": "markdown",
   "metadata": {},
   "source": [
    "    1.BuildingEncoding\n",
    "        create an empty dictionary to store words\n",
    "        create a counter to store the index of how many single words we have (vocabulary size)\n",
    "        for each file in \"listdir(directory address)\"\n",
    "            goes to the title, strip its words and create a set of it to remove duplicates\n",
    "            do the same for the description\n",
    "            union both sets\n",
    "            for each word in the united set check if it is not dictionary already\n",
    "                if it isnt add it to the dictionary as a key\n",
    "                set the counter as the value of the word in the dictionary\n",
    "                increase the counter +1"
   ]
  },
  {
   "cell_type": "markdown",
   "metadata": {},
   "source": [
    "### Reverse Index\n",
    "Creating a dictionary of words as keys and documents as values."
   ]
  },
  {
   "cell_type": "markdown",
   "metadata": {},
   "source": [
    "After this step can say in for each number (word) which documents have it example \n",
    "\n",
    " \n",
    "{\n",
    "\n",
    "term_id_1:[document_1, document_2, document_4],\n",
    "\n",
    "term_id_2:[document_1, document_3, document_5, document_6],\n",
    "\n",
    "...}\n"
   ]
  },
  {
   "cell_type": "markdown",
   "metadata": {},
   "source": [
    "In this step it is created a new dictionary which the keys are the the vocabulary numbers of the previous dictionary. Then it is checkd for each document if the title and the description has the respective word, if there is the document name is appended as a value to the respective keyword."
   ]
  },
  {
   "cell_type": "code",
   "execution_count": 28,
   "metadata": {
    "ExecuteTime": {
     "end_time": "2018-11-24T17:37:02.864792Z",
     "start_time": "2018-11-24T17:37:02.859800Z"
    }
   },
   "outputs": [],
   "source": [
    "reverted_index = airbnb.RI"
   ]
  },
  {
   "cell_type": "markdown",
   "metadata": {},
   "source": [
    "Documents containing the word related to the index 1."
   ]
  },
  {
   "cell_type": "code",
   "execution_count": 38,
   "metadata": {
    "ExecuteTime": {
     "end_time": "2018-11-24T17:43:14.650027Z",
     "start_time": "2018-11-24T17:43:14.634109Z"
    }
   },
   "outputs": [
    {
     "data": {
      "text/plain": [
       "['doc_1',\n",
       " 'doc_10000',\n",
       " 'doc_10006',\n",
       " 'doc_10012',\n",
       " 'doc_10015',\n",
       " 'doc_10019',\n",
       " 'doc_10021',\n",
       " 'doc_10028',\n",
       " 'doc_10030',\n",
       " 'doc_10034',\n",
       " 'doc_10035',\n",
       " 'doc_10036',\n",
       " 'doc_10037',\n",
       " 'doc_10039',\n",
       " 'doc_1005',\n",
       " 'doc_10054',\n",
       " 'doc_10056',\n",
       " 'doc_10057',\n",
       " 'doc_10062',\n",
       " 'doc_10067',\n",
       " 'doc_10068',\n",
       " 'doc_10071',\n",
       " 'doc_10076',\n",
       " 'doc_10077',\n",
       " 'doc_10078',\n",
       " 'doc_10081',\n",
       " 'doc_10084',\n",
       " 'doc_10087',\n",
       " 'doc_10097',\n",
       " 'doc_1010',\n",
       " 'doc_10101',\n",
       " 'doc_10102',\n",
       " 'doc_10104',\n",
       " 'doc_10112',\n",
       " 'doc_10116',\n",
       " 'doc_10119',\n",
       " 'doc_10124',\n",
       " 'doc_10130',\n",
       " 'doc_10132',\n",
       " 'doc_10136',\n",
       " 'doc_10137',\n",
       " 'doc_10139',\n",
       " 'doc_10141',\n",
       " 'doc_10143',\n",
       " 'doc_10144',\n",
       " 'doc_10148',\n",
       " 'doc_10160',\n",
       " 'doc_10161',\n",
       " 'doc_10162',\n",
       " 'doc_10164',\n",
       " 'doc_10169',\n",
       " 'doc_1017',\n",
       " 'doc_10172',\n",
       " 'doc_10175',\n",
       " 'doc_10176',\n",
       " 'doc_10177',\n",
       " 'doc_10178',\n",
       " 'doc_1018',\n",
       " 'doc_10183',\n",
       " 'doc_10188',\n",
       " 'doc_1019',\n",
       " 'doc_10190',\n",
       " 'doc_10199',\n",
       " 'doc_10202',\n",
       " 'doc_10203',\n",
       " 'doc_1021',\n",
       " 'doc_10211',\n",
       " 'doc_10216',\n",
       " 'doc_1023',\n",
       " 'doc_10234',\n",
       " 'doc_10239',\n",
       " 'doc_10241',\n",
       " 'doc_10244',\n",
       " 'doc_10248',\n",
       " 'doc_10250',\n",
       " 'doc_10254',\n",
       " 'doc_10259',\n",
       " 'doc_10261',\n",
       " 'doc_10263',\n",
       " 'doc_10271',\n",
       " 'doc_10280',\n",
       " 'doc_10282',\n",
       " 'doc_10289',\n",
       " 'doc_10291',\n",
       " 'doc_10292',\n",
       " 'doc_10294',\n",
       " 'doc_10298',\n",
       " 'doc_10300',\n",
       " 'doc_10302',\n",
       " 'doc_10312',\n",
       " 'doc_10315',\n",
       " 'doc_10317',\n",
       " 'doc_10318',\n",
       " 'doc_10323',\n",
       " 'doc_1033',\n",
       " 'doc_10331',\n",
       " 'doc_10332',\n",
       " 'doc_10335',\n",
       " 'doc_10336',\n",
       " 'doc_10341',\n",
       " 'doc_10343',\n",
       " 'doc_10344',\n",
       " 'doc_10358',\n",
       " 'doc_10363',\n",
       " 'doc_10365',\n",
       " 'doc_10378',\n",
       " 'doc_10382',\n",
       " 'doc_10388',\n",
       " 'doc_10391',\n",
       " 'doc_10404',\n",
       " 'doc_10406',\n",
       " 'doc_10422',\n",
       " 'doc_10423',\n",
       " 'doc_10425',\n",
       " 'doc_10433',\n",
       " 'doc_10436',\n",
       " 'doc_10440',\n",
       " 'doc_10445',\n",
       " 'doc_1045',\n",
       " 'doc_10453',\n",
       " 'doc_10455',\n",
       " 'doc_1046',\n",
       " 'doc_10461',\n",
       " 'doc_10466',\n",
       " 'doc_1047',\n",
       " 'doc_10472',\n",
       " 'doc_10474',\n",
       " 'doc_10476',\n",
       " 'doc_10478',\n",
       " 'doc_10488',\n",
       " 'doc_1049',\n",
       " 'doc_10491',\n",
       " 'doc_10492',\n",
       " 'doc_10497',\n",
       " 'doc_10508',\n",
       " 'doc_10514',\n",
       " 'doc_10516',\n",
       " 'doc_10517',\n",
       " 'doc_10521',\n",
       " 'doc_10528',\n",
       " 'doc_10530',\n",
       " 'doc_10532',\n",
       " 'doc_10538',\n",
       " 'doc_1054',\n",
       " 'doc_10540',\n",
       " 'doc_10543',\n",
       " 'doc_10544',\n",
       " 'doc_10546',\n",
       " 'doc_1055',\n",
       " 'doc_10550',\n",
       " 'doc_10552',\n",
       " 'doc_10553',\n",
       " 'doc_10565',\n",
       " 'doc_10568',\n",
       " 'doc_10569',\n",
       " 'doc_1057',\n",
       " 'doc_10572',\n",
       " 'doc_10574',\n",
       " 'doc_10579',\n",
       " 'doc_10582',\n",
       " 'doc_10586',\n",
       " 'doc_10587',\n",
       " 'doc_10588',\n",
       " 'doc_10589',\n",
       " 'doc_10592',\n",
       " 'doc_10596',\n",
       " 'doc_10597',\n",
       " 'doc_1061',\n",
       " 'doc_10611',\n",
       " 'doc_10614',\n",
       " 'doc_10616',\n",
       " 'doc_10617',\n",
       " 'doc_10619',\n",
       " 'doc_1062',\n",
       " 'doc_10621',\n",
       " 'doc_10631',\n",
       " 'doc_10639',\n",
       " 'doc_1064',\n",
       " 'doc_10640',\n",
       " 'doc_10644',\n",
       " 'doc_10646',\n",
       " 'doc_10649',\n",
       " 'doc_1065',\n",
       " 'doc_10650',\n",
       " 'doc_10653',\n",
       " 'doc_10662',\n",
       " 'doc_10665',\n",
       " 'doc_10675',\n",
       " 'doc_10681',\n",
       " 'doc_10684',\n",
       " 'doc_10688',\n",
       " 'doc_10689',\n",
       " 'doc_10694',\n",
       " 'doc_10697',\n",
       " 'doc_10699',\n",
       " 'doc_10704',\n",
       " 'doc_10706',\n",
       " 'doc_1071',\n",
       " 'doc_10715',\n",
       " 'doc_10719',\n",
       " 'doc_10720',\n",
       " 'doc_10722',\n",
       " 'doc_10727',\n",
       " 'doc_10728',\n",
       " 'doc_1073',\n",
       " 'doc_10733',\n",
       " 'doc_10741',\n",
       " 'doc_10745',\n",
       " 'doc_10747',\n",
       " 'doc_10748',\n",
       " 'doc_10750',\n",
       " 'doc_10752',\n",
       " 'doc_10754',\n",
       " 'doc_10757',\n",
       " 'doc_10766',\n",
       " 'doc_10767',\n",
       " 'doc_10768',\n",
       " 'doc_10769',\n",
       " 'doc_10770',\n",
       " 'doc_10773',\n",
       " 'doc_10779',\n",
       " 'doc_10780',\n",
       " 'doc_10782',\n",
       " 'doc_10783',\n",
       " 'doc_1079',\n",
       " 'doc_10794',\n",
       " 'doc_10796',\n",
       " 'doc_10797',\n",
       " 'doc_10800',\n",
       " 'doc_10805',\n",
       " 'doc_1081',\n",
       " 'doc_10810',\n",
       " 'doc_10811',\n",
       " 'doc_10816',\n",
       " 'doc_10819',\n",
       " 'doc_10821',\n",
       " 'doc_10822',\n",
       " 'doc_10824',\n",
       " 'doc_10825',\n",
       " 'doc_10826',\n",
       " 'doc_10830',\n",
       " 'doc_10831',\n",
       " 'doc_10832',\n",
       " 'doc_10835',\n",
       " 'doc_10841',\n",
       " 'doc_10846',\n",
       " 'doc_10847',\n",
       " 'doc_10853',\n",
       " 'doc_10855',\n",
       " 'doc_1086',\n",
       " 'doc_10861',\n",
       " 'doc_10864',\n",
       " 'doc_10867',\n",
       " 'doc_10868',\n",
       " 'doc_10871',\n",
       " 'doc_10874',\n",
       " 'doc_1088',\n",
       " 'doc_10893',\n",
       " 'doc_10894',\n",
       " 'doc_10898',\n",
       " 'doc_10900',\n",
       " 'doc_10901',\n",
       " 'doc_10902',\n",
       " 'doc_10903',\n",
       " 'doc_10904',\n",
       " 'doc_10908',\n",
       " 'doc_1091',\n",
       " 'doc_10910',\n",
       " 'doc_10916',\n",
       " 'doc_10921',\n",
       " 'doc_10927',\n",
       " 'doc_10936',\n",
       " 'doc_10941',\n",
       " 'doc_10942',\n",
       " 'doc_10943',\n",
       " 'doc_10946',\n",
       " 'doc_10949',\n",
       " 'doc_10955',\n",
       " 'doc_10956',\n",
       " 'doc_10964',\n",
       " 'doc_10965',\n",
       " 'doc_10969',\n",
       " 'doc_10975',\n",
       " 'doc_10977',\n",
       " 'doc_10978',\n",
       " 'doc_10979',\n",
       " 'doc_10980',\n",
       " 'doc_10982',\n",
       " 'doc_10983',\n",
       " 'doc_10985',\n",
       " 'doc_10986',\n",
       " 'doc_10987',\n",
       " 'doc_10988',\n",
       " 'doc_10989',\n",
       " 'doc_1099',\n",
       " 'doc_10991',\n",
       " 'doc_10997',\n",
       " 'doc_10998',\n",
       " 'doc_11',\n",
       " 'doc_110',\n",
       " 'doc_11013',\n",
       " 'doc_11015',\n",
       " 'doc_11021',\n",
       " 'doc_11025',\n",
       " 'doc_11026',\n",
       " 'doc_11034',\n",
       " 'doc_1104',\n",
       " 'doc_11047',\n",
       " 'doc_11048',\n",
       " 'doc_11051',\n",
       " 'doc_1106',\n",
       " 'doc_11065',\n",
       " 'doc_11069',\n",
       " 'doc_1107',\n",
       " 'doc_11074',\n",
       " 'doc_11076',\n",
       " 'doc_11078',\n",
       " 'doc_11088',\n",
       " 'doc_11089',\n",
       " 'doc_1109',\n",
       " 'doc_11096',\n",
       " 'doc_11097',\n",
       " 'doc_11099',\n",
       " 'doc_11100',\n",
       " 'doc_11101',\n",
       " 'doc_11103',\n",
       " 'doc_11105',\n",
       " 'doc_1111',\n",
       " 'doc_11110',\n",
       " 'doc_11115',\n",
       " 'doc_11119',\n",
       " 'doc_11120',\n",
       " 'doc_11121',\n",
       " 'doc_11123',\n",
       " 'doc_11125',\n",
       " 'doc_11131',\n",
       " 'doc_11134',\n",
       " 'doc_11135',\n",
       " 'doc_11151',\n",
       " 'doc_11153',\n",
       " 'doc_11154',\n",
       " 'doc_11159',\n",
       " 'doc_11162',\n",
       " 'doc_11163',\n",
       " 'doc_11164',\n",
       " 'doc_11165',\n",
       " 'doc_11171',\n",
       " 'doc_11172',\n",
       " 'doc_11182',\n",
       " 'doc_11183',\n",
       " 'doc_11184',\n",
       " 'doc_11188',\n",
       " 'doc_1119',\n",
       " 'doc_11190',\n",
       " 'doc_11193',\n",
       " 'doc_11194',\n",
       " 'doc_11195',\n",
       " 'doc_11196',\n",
       " 'doc_11198',\n",
       " 'doc_11199',\n",
       " 'doc_11205',\n",
       " 'doc_11212',\n",
       " 'doc_11214',\n",
       " 'doc_11215',\n",
       " 'doc_11225',\n",
       " 'doc_11226',\n",
       " 'doc_11228',\n",
       " 'doc_11233',\n",
       " 'doc_11234',\n",
       " 'doc_11235',\n",
       " 'doc_11236',\n",
       " 'doc_11237',\n",
       " 'doc_11243',\n",
       " 'doc_11244',\n",
       " 'doc_11245',\n",
       " 'doc_11246',\n",
       " 'doc_11248',\n",
       " 'doc_11249',\n",
       " 'doc_11252',\n",
       " 'doc_11254',\n",
       " 'doc_11255',\n",
       " 'doc_11258',\n",
       " 'doc_11260',\n",
       " 'doc_11266',\n",
       " 'doc_11268',\n",
       " 'doc_11269',\n",
       " 'doc_11271',\n",
       " 'doc_11274',\n",
       " 'doc_11275',\n",
       " 'doc_11279',\n",
       " 'doc_1128',\n",
       " 'doc_11280',\n",
       " 'doc_11283',\n",
       " 'doc_11285',\n",
       " 'doc_11287',\n",
       " 'doc_1130',\n",
       " 'doc_11302',\n",
       " 'doc_11306',\n",
       " 'doc_11310',\n",
       " 'doc_11314',\n",
       " 'doc_11318',\n",
       " 'doc_11326',\n",
       " 'doc_1133',\n",
       " 'doc_11331',\n",
       " 'doc_11332',\n",
       " 'doc_11336',\n",
       " 'doc_11341',\n",
       " 'doc_11346',\n",
       " 'doc_11357',\n",
       " 'doc_11361',\n",
       " 'doc_11363',\n",
       " 'doc_11364',\n",
       " 'doc_11372',\n",
       " 'doc_11373',\n",
       " 'doc_11377',\n",
       " 'doc_11381',\n",
       " 'doc_1139',\n",
       " 'doc_11390',\n",
       " 'doc_11392',\n",
       " 'doc_11394',\n",
       " 'doc_11395',\n",
       " 'doc_11396',\n",
       " 'doc_11397',\n",
       " 'doc_11399',\n",
       " 'doc_11405',\n",
       " 'doc_11409',\n",
       " 'doc_11413',\n",
       " 'doc_11415',\n",
       " 'doc_11417',\n",
       " 'doc_11418',\n",
       " 'doc_11419',\n",
       " 'doc_11420',\n",
       " 'doc_11421',\n",
       " 'doc_11422',\n",
       " 'doc_11436',\n",
       " 'doc_1144',\n",
       " 'doc_11447',\n",
       " 'doc_11448',\n",
       " 'doc_1145',\n",
       " 'doc_11452',\n",
       " 'doc_11460',\n",
       " 'doc_11462',\n",
       " 'doc_11468',\n",
       " 'doc_1147',\n",
       " 'doc_11473',\n",
       " 'doc_11479',\n",
       " 'doc_11480',\n",
       " 'doc_11482',\n",
       " 'doc_11485',\n",
       " 'doc_11491',\n",
       " 'doc_11493',\n",
       " 'doc_11501',\n",
       " 'doc_11503',\n",
       " 'doc_11504',\n",
       " 'doc_11511',\n",
       " 'doc_11512',\n",
       " 'doc_1152',\n",
       " 'doc_11522',\n",
       " 'doc_11523',\n",
       " 'doc_11534',\n",
       " 'doc_11535',\n",
       " 'doc_11540',\n",
       " 'doc_11547',\n",
       " 'doc_11548',\n",
       " 'doc_11550',\n",
       " 'doc_11551',\n",
       " 'doc_11556',\n",
       " 'doc_11558',\n",
       " 'doc_11560',\n",
       " 'doc_11562',\n",
       " 'doc_11563',\n",
       " 'doc_11566',\n",
       " 'doc_11570',\n",
       " 'doc_11574',\n",
       " 'doc_11577',\n",
       " 'doc_11579',\n",
       " 'doc_11580',\n",
       " 'doc_11582',\n",
       " 'doc_11589',\n",
       " 'doc_11592',\n",
       " 'doc_11597',\n",
       " 'doc_11601',\n",
       " 'doc_11604',\n",
       " 'doc_11609',\n",
       " 'doc_11610',\n",
       " 'doc_11618',\n",
       " 'doc_11619',\n",
       " 'doc_11624',\n",
       " 'doc_11636',\n",
       " 'doc_11641',\n",
       " 'doc_11644',\n",
       " 'doc_11645',\n",
       " 'doc_11647',\n",
       " 'doc_11649',\n",
       " 'doc_11650',\n",
       " 'doc_11654',\n",
       " 'doc_11657',\n",
       " 'doc_11659',\n",
       " 'doc_11662',\n",
       " 'doc_11668',\n",
       " 'doc_1167',\n",
       " 'doc_11684',\n",
       " 'doc_11686',\n",
       " 'doc_11688',\n",
       " 'doc_1169',\n",
       " 'doc_11696',\n",
       " 'doc_11703',\n",
       " 'doc_11704',\n",
       " 'doc_11706',\n",
       " 'doc_11715',\n",
       " 'doc_11719',\n",
       " 'doc_11726',\n",
       " 'doc_11730',\n",
       " 'doc_11734',\n",
       " 'doc_11738',\n",
       " 'doc_1174',\n",
       " 'doc_11740',\n",
       " 'doc_11744',\n",
       " 'doc_11749',\n",
       " 'doc_1175',\n",
       " 'doc_11752',\n",
       " 'doc_11755',\n",
       " 'doc_11762',\n",
       " 'doc_11767',\n",
       " 'doc_11775',\n",
       " 'doc_11779',\n",
       " 'doc_11797',\n",
       " 'doc_118',\n",
       " 'doc_11806',\n",
       " 'doc_11808',\n",
       " 'doc_11813',\n",
       " 'doc_11826',\n",
       " 'doc_11828',\n",
       " 'doc_11834',\n",
       " 'doc_11835',\n",
       " 'doc_11837',\n",
       " 'doc_11839',\n",
       " 'doc_11844',\n",
       " 'doc_11850',\n",
       " 'doc_11851',\n",
       " 'doc_11852',\n",
       " 'doc_11869',\n",
       " 'doc_1187',\n",
       " 'doc_11872',\n",
       " 'doc_11873',\n",
       " 'doc_11875',\n",
       " 'doc_11879',\n",
       " 'doc_11880',\n",
       " 'doc_11885',\n",
       " 'doc_11886',\n",
       " 'doc_11887',\n",
       " 'doc_11895',\n",
       " 'doc_119',\n",
       " 'doc_11902',\n",
       " 'doc_11905',\n",
       " 'doc_11907',\n",
       " 'doc_11913',\n",
       " 'doc_11918',\n",
       " 'doc_11922',\n",
       " 'doc_11926',\n",
       " 'doc_11927',\n",
       " 'doc_11930',\n",
       " 'doc_11931',\n",
       " 'doc_11946',\n",
       " 'doc_11947',\n",
       " 'doc_11964',\n",
       " 'doc_11966',\n",
       " 'doc_11969',\n",
       " 'doc_11970',\n",
       " 'doc_11980',\n",
       " 'doc_11986',\n",
       " 'doc_11993',\n",
       " 'doc_11995',\n",
       " 'doc_11998',\n",
       " 'doc_11999',\n",
       " 'doc_12',\n",
       " 'doc_12000',\n",
       " 'doc_12001',\n",
       " 'doc_12004',\n",
       " 'doc_12005',\n",
       " 'doc_12013',\n",
       " 'doc_12014',\n",
       " 'doc_12020',\n",
       " 'doc_12025',\n",
       " 'doc_1203',\n",
       " 'doc_12032',\n",
       " 'doc_12033',\n",
       " 'doc_12036',\n",
       " 'doc_1204',\n",
       " 'doc_12041',\n",
       " 'doc_12050',\n",
       " 'doc_12053',\n",
       " 'doc_12058',\n",
       " 'doc_1206',\n",
       " 'doc_12060',\n",
       " 'doc_12071',\n",
       " 'doc_12079',\n",
       " 'doc_12080',\n",
       " 'doc_12090',\n",
       " 'doc_12093',\n",
       " 'doc_12095',\n",
       " 'doc_12100',\n",
       " 'doc_12102',\n",
       " 'doc_12105',\n",
       " 'doc_12108',\n",
       " 'doc_12110',\n",
       " 'doc_12115',\n",
       " 'doc_12126',\n",
       " 'doc_1213',\n",
       " 'doc_12131',\n",
       " 'doc_12133',\n",
       " 'doc_12134',\n",
       " 'doc_12138',\n",
       " 'doc_12140',\n",
       " 'doc_12141',\n",
       " 'doc_12147',\n",
       " 'doc_12150',\n",
       " 'doc_12152',\n",
       " 'doc_12153',\n",
       " 'doc_12156',\n",
       " 'doc_12157',\n",
       " 'doc_12159',\n",
       " 'doc_12165',\n",
       " 'doc_12168',\n",
       " 'doc_12169',\n",
       " 'doc_12174',\n",
       " 'doc_12175',\n",
       " 'doc_12180',\n",
       " 'doc_12181',\n",
       " 'doc_12184',\n",
       " 'doc_12187',\n",
       " 'doc_12195',\n",
       " 'doc_12198',\n",
       " 'doc_12208',\n",
       " 'doc_12210',\n",
       " 'doc_12214',\n",
       " 'doc_12217',\n",
       " 'doc_12218',\n",
       " 'doc_12220',\n",
       " 'doc_12226',\n",
       " 'doc_12229',\n",
       " 'doc_1223',\n",
       " 'doc_12231',\n",
       " 'doc_12236',\n",
       " 'doc_12238',\n",
       " 'doc_12239',\n",
       " 'doc_12243',\n",
       " 'doc_12245',\n",
       " 'doc_12248',\n",
       " 'doc_12249',\n",
       " 'doc_1225',\n",
       " 'doc_12251',\n",
       " 'doc_12252',\n",
       " 'doc_12253',\n",
       " 'doc_12254',\n",
       " 'doc_12260',\n",
       " 'doc_12261',\n",
       " 'doc_12269',\n",
       " 'doc_12275',\n",
       " 'doc_12278',\n",
       " 'doc_12282',\n",
       " 'doc_12284',\n",
       " 'doc_12293',\n",
       " 'doc_1230',\n",
       " 'doc_12302',\n",
       " 'doc_12303',\n",
       " 'doc_12307',\n",
       " 'doc_12308',\n",
       " 'doc_1231',\n",
       " 'doc_12319',\n",
       " 'doc_1232',\n",
       " 'doc_12321',\n",
       " 'doc_12325',\n",
       " 'doc_12326',\n",
       " 'doc_12331',\n",
       " 'doc_12332',\n",
       " 'doc_12335',\n",
       " 'doc_12339',\n",
       " 'doc_12342',\n",
       " 'doc_12345',\n",
       " 'doc_12347',\n",
       " 'doc_1235',\n",
       " 'doc_12355',\n",
       " 'doc_12359',\n",
       " 'doc_12364',\n",
       " 'doc_12365',\n",
       " 'doc_12366',\n",
       " 'doc_1237',\n",
       " 'doc_12372',\n",
       " 'doc_12373',\n",
       " 'doc_12374',\n",
       " 'doc_12375',\n",
       " 'doc_12386',\n",
       " 'doc_12387',\n",
       " 'doc_1239',\n",
       " 'doc_12390',\n",
       " 'doc_12391',\n",
       " 'doc_12394',\n",
       " 'doc_12396',\n",
       " 'doc_12397',\n",
       " 'doc_1240',\n",
       " 'doc_12401',\n",
       " 'doc_12405',\n",
       " 'doc_12410',\n",
       " 'doc_12414',\n",
       " 'doc_12415',\n",
       " 'doc_12416',\n",
       " 'doc_1242',\n",
       " 'doc_12420',\n",
       " 'doc_12421',\n",
       " 'doc_12426',\n",
       " 'doc_12430',\n",
       " 'doc_12434',\n",
       " 'doc_12439',\n",
       " 'doc_1244',\n",
       " 'doc_12448',\n",
       " 'doc_12454',\n",
       " 'doc_12459',\n",
       " 'doc_12460',\n",
       " 'doc_12461',\n",
       " 'doc_12464',\n",
       " 'doc_12472',\n",
       " 'doc_12478',\n",
       " 'doc_1248',\n",
       " 'doc_12480',\n",
       " 'doc_12482',\n",
       " 'doc_12484',\n",
       " 'doc_12485',\n",
       " 'doc_12498',\n",
       " 'doc_1250',\n",
       " 'doc_12504',\n",
       " 'doc_12508',\n",
       " 'doc_12513',\n",
       " 'doc_12519',\n",
       " 'doc_12530',\n",
       " 'doc_12539',\n",
       " 'doc_12545',\n",
       " 'doc_12557',\n",
       " 'doc_12559',\n",
       " 'doc_12563',\n",
       " 'doc_12568',\n",
       " 'doc_12570',\n",
       " 'doc_12579',\n",
       " 'doc_12583',\n",
       " 'doc_12584',\n",
       " 'doc_12586',\n",
       " 'doc_12588',\n",
       " 'doc_1259',\n",
       " 'doc_12592',\n",
       " 'doc_12595',\n",
       " 'doc_12597',\n",
       " 'doc_12603',\n",
       " 'doc_12605',\n",
       " 'doc_12606',\n",
       " 'doc_1261',\n",
       " 'doc_12615',\n",
       " 'doc_12616',\n",
       " 'doc_12624',\n",
       " 'doc_12627',\n",
       " 'doc_12634',\n",
       " 'doc_12636',\n",
       " 'doc_12641',\n",
       " 'doc_12644',\n",
       " 'doc_12645',\n",
       " 'doc_12650',\n",
       " 'doc_12651',\n",
       " 'doc_12653',\n",
       " 'doc_12658',\n",
       " 'doc_12664',\n",
       " 'doc_12673',\n",
       " 'doc_12676',\n",
       " 'doc_12677',\n",
       " 'doc_12680',\n",
       " 'doc_12682',\n",
       " 'doc_12687',\n",
       " 'doc_12688',\n",
       " 'doc_12689',\n",
       " 'doc_12691',\n",
       " 'doc_12697',\n",
       " 'doc_12713',\n",
       " 'doc_12714',\n",
       " 'doc_12716',\n",
       " 'doc_12719',\n",
       " 'doc_12723',\n",
       " 'doc_12725',\n",
       " 'doc_12735',\n",
       " 'doc_12737',\n",
       " 'doc_1274',\n",
       " 'doc_12741',\n",
       " 'doc_12743',\n",
       " 'doc_12749',\n",
       " 'doc_12756',\n",
       " 'doc_12757',\n",
       " 'doc_12761',\n",
       " 'doc_12763',\n",
       " 'doc_12764',\n",
       " 'doc_12765',\n",
       " 'doc_12766',\n",
       " 'doc_12769',\n",
       " 'doc_1277',\n",
       " 'doc_12770',\n",
       " 'doc_12771',\n",
       " 'doc_12772',\n",
       " 'doc_12774',\n",
       " 'doc_12775',\n",
       " 'doc_12781',\n",
       " 'doc_12788',\n",
       " 'doc_12789',\n",
       " 'doc_1279',\n",
       " 'doc_12795',\n",
       " 'doc_12800',\n",
       " 'doc_12801',\n",
       " 'doc_12806',\n",
       " 'doc_12807',\n",
       " 'doc_12811',\n",
       " 'doc_12812',\n",
       " 'doc_12817',\n",
       " 'doc_1282',\n",
       " 'doc_12824',\n",
       " 'doc_12825',\n",
       " 'doc_12830',\n",
       " 'doc_12832',\n",
       " 'doc_12845',\n",
       " 'doc_12847',\n",
       " 'doc_12851',\n",
       " 'doc_12852',\n",
       " 'doc_12854',\n",
       " 'doc_12856',\n",
       " 'doc_1286',\n",
       " 'doc_12865',\n",
       " 'doc_12867',\n",
       " 'doc_12870',\n",
       " 'doc_12874',\n",
       " 'doc_12875',\n",
       " 'doc_12877',\n",
       " 'doc_12878',\n",
       " 'doc_12879',\n",
       " 'doc_12886',\n",
       " 'doc_1289',\n",
       " 'doc_12904',\n",
       " 'doc_12905',\n",
       " 'doc_12908',\n",
       " 'doc_12909',\n",
       " 'doc_12914',\n",
       " 'doc_12922',\n",
       " 'doc_12925',\n",
       " 'doc_12931',\n",
       " 'doc_12934',\n",
       " 'doc_12935',\n",
       " 'doc_1295',\n",
       " 'doc_12951',\n",
       " 'doc_12962',\n",
       " 'doc_12968',\n",
       " 'doc_12973',\n",
       " 'doc_12976',\n",
       " 'doc_12977',\n",
       " 'doc_1298',\n",
       " 'doc_12981',\n",
       " 'doc_12982',\n",
       " 'doc_12994',\n",
       " 'doc_130',\n",
       " 'doc_13001',\n",
       " 'doc_13008',\n",
       " 'doc_1301',\n",
       " 'doc_13013',\n",
       " 'doc_13015',\n",
       " 'doc_13016',\n",
       " 'doc_13019',\n",
       " 'doc_13022',\n",
       " 'doc_13024',\n",
       " 'doc_13026',\n",
       " 'doc_1303',\n",
       " 'doc_13030',\n",
       " 'doc_13036',\n",
       " 'doc_1304',\n",
       " 'doc_13043',\n",
       " 'doc_13044',\n",
       " 'doc_13046',\n",
       " 'doc_13050',\n",
       " 'doc_13055',\n",
       " 'doc_13060',\n",
       " 'doc_13068',\n",
       " 'doc_13072',\n",
       " 'doc_13073',\n",
       " 'doc_13074',\n",
       " 'doc_1308',\n",
       " 'doc_13083',\n",
       " 'doc_13086',\n",
       " 'doc_13096',\n",
       " 'doc_13098',\n",
       " 'doc_131',\n",
       " 'doc_13102',\n",
       " 'doc_13103',\n",
       " 'doc_13104',\n",
       " 'doc_13105',\n",
       " 'doc_13110',\n",
       " 'doc_13114',\n",
       " 'doc_13115',\n",
       " 'doc_13118',\n",
       " 'doc_13120',\n",
       " 'doc_13122',\n",
       " 'doc_13125',\n",
       " 'doc_13128',\n",
       " 'doc_13131',\n",
       " 'doc_13132',\n",
       " 'doc_13134',\n",
       " 'doc_13139',\n",
       " 'doc_1314',\n",
       " 'doc_13146',\n",
       " 'doc_1315',\n",
       " 'doc_13154',\n",
       " 'doc_13157',\n",
       " 'doc_13165',\n",
       " 'doc_13169',\n",
       " 'doc_1317',\n",
       " 'doc_13175',\n",
       " 'doc_13182',\n",
       " 'doc_1319',\n",
       " 'doc_13196',\n",
       " 'doc_13200',\n",
       " 'doc_13204',\n",
       " 'doc_13205',\n",
       " 'doc_13207',\n",
       " 'doc_13213',\n",
       " 'doc_13216',\n",
       " 'doc_13218',\n",
       " 'doc_13221',\n",
       " 'doc_13224',\n",
       " 'doc_13230',\n",
       " 'doc_13245',\n",
       " 'doc_13252',\n",
       " 'doc_13258',\n",
       " 'doc_1326',\n",
       " 'doc_13261',\n",
       " 'doc_13269',\n",
       " 'doc_13271',\n",
       " 'doc_13272',\n",
       " 'doc_13274',\n",
       " 'doc_13275',\n",
       " 'doc_13276',\n",
       " 'doc_13277',\n",
       " 'doc_1328',\n",
       " 'doc_13287',\n",
       " 'doc_13289',\n",
       " 'doc_13290',\n",
       " 'doc_13293',\n",
       " 'doc_13297',\n",
       " 'doc_13298',\n",
       " 'doc_1330',\n",
       " 'doc_13302',\n",
       " 'doc_13303',\n",
       " 'doc_13305',\n",
       " 'doc_13306',\n",
       " 'doc_13309',\n",
       " 'doc_13325',\n",
       " 'doc_13327',\n",
       " 'doc_1333',\n",
       " 'doc_13331',\n",
       " 'doc_13332',\n",
       " 'doc_13334',\n",
       " 'doc_13345',\n",
       " 'doc_13349',\n",
       " 'doc_13352',\n",
       " 'doc_13353',\n",
       " 'doc_13357',\n",
       " 'doc_13364',\n",
       " 'doc_13373',\n",
       " 'doc_13380',\n",
       " 'doc_13390',\n",
       " 'doc_13392',\n",
       " 'doc_13393',\n",
       " 'doc_13400',\n",
       " 'doc_13406',\n",
       " 'doc_13411',\n",
       " 'doc_13412',\n",
       " 'doc_13429',\n",
       " 'doc_1343',\n",
       " 'doc_13438',\n",
       " 'doc_13440',\n",
       " 'doc_13445',\n",
       " 'doc_13446',\n",
       " 'doc_1345',\n",
       " 'doc_13451',\n",
       " 'doc_13454',\n",
       " 'doc_13456',\n",
       " 'doc_1346',\n",
       " 'doc_13460',\n",
       " 'doc_13461',\n",
       " 'doc_13473',\n",
       " 'doc_13491',\n",
       " 'doc_13495',\n",
       " 'doc_13499',\n",
       " 'doc_135',\n",
       " 'doc_13504',\n",
       " 'doc_1351',\n",
       " 'doc_13513',\n",
       " 'doc_13516',\n",
       " 'doc_13521',\n",
       " 'doc_13525',\n",
       " 'doc_13530',\n",
       " ...]"
      ]
     },
     "execution_count": 38,
     "metadata": {},
     "output_type": "execute_result"
    }
   ],
   "source": [
    "reverted_index.get(1)"
   ]
  },
  {
   "cell_type": "code",
   "execution_count": 39,
   "metadata": {
    "ExecuteTime": {
     "end_time": "2018-11-24T17:44:10.585126Z",
     "start_time": "2018-11-24T17:44:10.579141Z"
    }
   },
   "outputs": [
    {
     "data": {
      "text/plain": [
       "12385"
      ]
     },
     "execution_count": 39,
     "metadata": {},
     "output_type": "execute_result"
    }
   ],
   "source": [
    "len(reverted_index)"
   ]
  },
  {
   "cell_type": "markdown",
   "metadata": {},
   "source": [
    "We have 12385 different words we have in all the documents."
   ]
  },
  {
   "cell_type": "markdown",
   "metadata": {},
   "source": [
    "    create a new dictionary with the keys being the numbers at the size of the vocabulary\n",
    "        this is our target dictionary, we want to say what documents have this word\n",
    "    for each file in \"listdir(directory address)\"\n",
    "        goes to the title, strip its words and create a set of it to remove duplicates\n",
    "        do the same for the description\n",
    "        union both sets\n",
    "        for each word in the set\n",
    "            get which number this word has in the vocabulary dictionary\n",
    "            goes to the new dictionary and append the name of the document to the key"
   ]
  },
  {
   "cell_type": "markdown",
   "metadata": {},
   "source": [
    "# Conjunctive query"
   ]
  },
  {
   "cell_type": "markdown",
   "metadata": {},
   "source": [
    "At this moment, we narrow out interest on the description and title of each document. It means that the first Search Engine will evaluate queries with respect to the aforementioned information."
   ]
  },
  {
   "cell_type": "markdown",
   "metadata": {},
   "source": [
    "Since we are dealing with conjunctive queries (AND), each of the returned documents should contain all the words in the query. The final output is a table of documents with title, description, city and url."
   ]
  },
  {
   "cell_type": "markdown",
   "metadata": {},
   "source": [
    "Our first goal is to get the query and process it in order to be in the same standard as the description and title."
   ]
  },
  {
   "cell_type": "markdown",
   "metadata": {},
   "source": [
    "### Query processing"
   ]
  },
  {
   "cell_type": "markdown",
   "metadata": {},
   "source": [
    "After the user enter a query, which is considered a sentence which will be acquired in string format and apply the same process of Tokenization, eliminating stopwords and stemming the words, which were described in the **Pre-processing**."
   ]
  },
  {
   "cell_type": "markdown",
   "metadata": {},
   "source": [
    "For example, a query **\"a beautiful house with garden and beach\"** turns into a list **['beauti', 'hous', 'garden', 'beach']**"
   ]
  },
  {
   "cell_type": "markdown",
   "metadata": {},
   "source": [
    "Now that we have the query properly formated its possible to go to the dictionary created in the previous section and check which documents have the words of the query."
   ]
  },
  {
   "cell_type": "markdown",
   "metadata": {},
   "source": [
    "In this step we go through each word in the query list and append the set of documents of present on the dictionary values to a new list. At the end of the preccess this new list has all sets of documents which contain the query words"
   ]
  },
  {
   "cell_type": "markdown",
   "metadata": {},
   "source": [
    "As it is wanted a document that has all the words in it we do an intersection of this sets, which correspond to the group of documents that have all the words."
   ]
  },
  {
   "cell_type": "markdown",
   "metadata": {},
   "source": [
    "### Example"
   ]
  },
  {
   "cell_type": "markdown",
   "metadata": {},
   "source": [
    "First let's create the term encoding and the reverted index dictionary to perform the query."
   ]
  },
  {
   "cell_type": "code",
   "execution_count": 15,
   "metadata": {
    "ExecuteTime": {
     "end_time": "2018-11-24T17:27:22.642006Z",
     "start_time": "2018-11-24T17:27:22.524272Z"
    }
   },
   "outputs": [],
   "source": [
    "airbnb.buildEncoding(fileName = \"term_encoding.pickle\")\n",
    "airbnb.createRevertedIndex(fileName = \"reverted_index.pickle\")"
   ]
  },
  {
   "cell_type": "markdown",
   "metadata": {
    "ExecuteTime": {
     "end_time": "2018-11-24T17:17:13.588146Z",
     "start_time": "2018-11-24T17:17:13.582124Z"
    }
   },
   "source": [
    "Imputing the query and performing the search."
   ]
  },
  {
   "cell_type": "code",
   "execution_count": 18,
   "metadata": {
    "ExecuteTime": {
     "end_time": "2018-11-24T17:28:38.576715Z",
     "start_time": "2018-11-24T17:28:30.742934Z"
    },
    "scrolled": true
   },
   "outputs": [
    {
     "name": "stdout",
     "output_type": "stream",
     "text": [
      "Enter here your search: a beautiful house with garden and beach\n",
      "Query processed:  ['beauti', 'hous', 'garden', 'beach']\n",
      "Empty DataFrame\n",
      "Columns: [title, description, city, url]\n",
      "Index: []\n"
     ]
    }
   ],
   "source": [
    "result,_ = airbnb.query(str(input(\"Enter here your search: \")))\n",
    "print(result)"
   ]
  },
  {
   "cell_type": "markdown",
   "metadata": {},
   "source": [
    "Note that the query function returned a empty data frame, this means that there are no results matching this query. Let's try to simplify the query."
   ]
  },
  {
   "cell_type": "code",
   "execution_count": 20,
   "metadata": {
    "ExecuteTime": {
     "end_time": "2018-11-24T17:30:53.326276Z",
     "start_time": "2018-11-24T17:30:45.780455Z"
    },
    "scrolled": true
   },
   "outputs": [
    {
     "name": "stdout",
     "output_type": "stream",
     "text": [
      "Enter here your search: a house at the beach\n",
      "Query processed:  ['hous', 'beach']\n"
     ]
    },
    {
     "data": {
      "text/html": [
       "<div>\n",
       "<style scoped>\n",
       "    .dataframe tbody tr th:only-of-type {\n",
       "        vertical-align: middle;\n",
       "    }\n",
       "\n",
       "    .dataframe tbody tr th {\n",
       "        vertical-align: top;\n",
       "    }\n",
       "\n",
       "    .dataframe thead th {\n",
       "        text-align: right;\n",
       "    }\n",
       "</style>\n",
       "<table border=\"1\" class=\"dataframe\">\n",
       "  <thead>\n",
       "    <tr style=\"text-align: right;\">\n",
       "      <th></th>\n",
       "      <th>title</th>\n",
       "      <th>description</th>\n",
       "      <th>city</th>\n",
       "      <th>url</th>\n",
       "    </tr>\n",
       "  </thead>\n",
       "  <tbody>\n",
       "    <tr>\n",
       "      <th>4067</th>\n",
       "      <td>Bring the whole family &amp; the dog. 5 min to beach!</td>\n",
       "      <td>Our beach house has everything you need: comfo...</td>\n",
       "      <td>Port Aransas</td>\n",
       "      <td>https://www.airbnb.com/rooms/13686358?location...</td>\n",
       "    </tr>\n",
       "    <tr>\n",
       "      <th>1696</th>\n",
       "      <td>Unwind &amp; Play | Sun-Drenched Galveston Beach H...</td>\n",
       "      <td>Welcome to Camp Lafitte, a classic Galveston b...</td>\n",
       "      <td>Galveston</td>\n",
       "      <td>https://www.airbnb.com/rooms/16484229?location...</td>\n",
       "    </tr>\n",
       "    <tr>\n",
       "      <th>5839</th>\n",
       "      <td>League City, TX Rental 3 bedroom, 2 baths.</td>\n",
       "      <td>1600 sq ft house in League City, TX, a great l...</td>\n",
       "      <td>League City</td>\n",
       "      <td>https://www.airbnb.com/rooms/16603529?location...</td>\n",
       "    </tr>\n",
       "    <tr>\n",
       "      <th>13351</th>\n",
       "      <td>Historic Cole St House, walk to water, Cole Park</td>\n",
       "      <td>1600 Square foot historic house in a great nei...</td>\n",
       "      <td>Corpus Christi</td>\n",
       "      <td>https://www.airbnb.com/rooms/14211883?location...</td>\n",
       "    </tr>\n",
       "    <tr>\n",
       "      <th>17090</th>\n",
       "      <td>The COVE &amp; RV</td>\n",
       "      <td>PIRATES COVE and RV is a beautiful beachfront ...</td>\n",
       "      <td>Crystal Beach</td>\n",
       "      <td>https://www.airbnb.com/rooms/6870793?location=...</td>\n",
       "    </tr>\n",
       "  </tbody>\n",
       "</table>\n",
       "</div>"
      ],
      "text/plain": [
       "                                                   title  \\\n",
       "4067   Bring the whole family & the dog. 5 min to beach!   \n",
       "1696   Unwind & Play | Sun-Drenched Galveston Beach H...   \n",
       "5839          League City, TX Rental 3 bedroom, 2 baths.   \n",
       "13351   Historic Cole St House, walk to water, Cole Park   \n",
       "17090                                      The COVE & RV   \n",
       "\n",
       "                                             description            city  \\\n",
       "4067   Our beach house has everything you need: comfo...    Port Aransas   \n",
       "1696   Welcome to Camp Lafitte, a classic Galveston b...       Galveston   \n",
       "5839   1600 sq ft house in League City, TX, a great l...     League City   \n",
       "13351  1600 Square foot historic house in a great nei...  Corpus Christi   \n",
       "17090  PIRATES COVE and RV is a beautiful beachfront ...   Crystal Beach   \n",
       "\n",
       "                                                     url  \n",
       "4067   https://www.airbnb.com/rooms/13686358?location...  \n",
       "1696   https://www.airbnb.com/rooms/16484229?location...  \n",
       "5839   https://www.airbnb.com/rooms/16603529?location...  \n",
       "13351  https://www.airbnb.com/rooms/14211883?location...  \n",
       "17090  https://www.airbnb.com/rooms/6870793?location=...  "
      ]
     },
     "execution_count": 20,
     "metadata": {},
     "output_type": "execute_result"
    }
   ],
   "source": [
    "result,_ = airbnb.query(str(input(\"Enter here your search: \")))\n",
    "result.head()"
   ]
  },
  {
   "cell_type": "code",
   "execution_count": 21,
   "metadata": {
    "ExecuteTime": {
     "end_time": "2018-11-24T17:31:16.138265Z",
     "start_time": "2018-11-24T17:31:16.132309Z"
    },
    "scrolled": true
   },
   "outputs": [
    {
     "data": {
      "text/plain": [
       "320"
      ]
     },
     "execution_count": 21,
     "metadata": {},
     "output_type": "execute_result"
    }
   ],
   "source": [
    "len(result)"
   ]
  },
  {
   "cell_type": "markdown",
   "metadata": {},
   "source": [
    "This query matched 320 houses descriptions."
   ]
  },
  {
   "cell_type": "markdown",
   "metadata": {
    "ExecuteTime": {
     "end_time": "2018-11-24T16:24:04.320119Z",
     "start_time": "2018-11-24T16:24:04.316132Z"
    }
   },
   "source": [
    "## 2.4 Conjunctive query & Ranking score"
   ]
  },
  {
   "cell_type": "markdown",
   "metadata": {
    "ExecuteTime": {
     "end_time": "2018-11-24T16:24:54.696662Z",
     "start_time": "2018-11-24T16:24:54.692645Z"
    }
   },
   "source": [
    "Let's improve the Search Engine, given a query, now let's get the top 5 documents related to the query."
   ]
  },
  {
   "cell_type": "markdown",
   "metadata": {
    "ExecuteTime": {
     "end_time": "2018-11-24T17:51:26.150483Z",
     "start_time": "2018-11-24T17:51:26.142504Z"
    }
   },
   "source": [
    "For this it will be find all the documents that contains all the words in the query, as before. But afterwards they will be sorted by their similarity with the query\n",
    "\n",
    "To compute the simalarity will be used the tfIdf score, and the Cosine similarity."
   ]
  },
  {
   "cell_type": "markdown",
   "metadata": {},
   "source": [
    "The TF-IDF weight function ( term frequency-inverse document frequency ) is a function used in information retrieval to measure the importance of a term with respect to a document or a collection of documents. This function increases proportionally to the number of times the term is contained in the document, but grows in an inversely proportional manner with the frequency of the term in the collection. The idea behind this behavior is to give more importance to the terms that appear in the document, but that are generally infrequent."
   ]
  },
  {
   "cell_type": "markdown",
   "metadata": {},
   "source": [
    "Cosine similarity calculates similarity by measuring the cosine of angle between two vectors. This is calculated as:"
   ]
  },
  {
   "cell_type": "markdown",
   "metadata": {
    "ExecuteTime": {
     "end_time": "2018-11-24T18:01:50.700356Z",
     "start_time": "2018-11-24T18:01:50.693376Z"
    }
   },
   "source": [
    "\\begin{align}\n",
    "cos(\\pmb x, \\pmb y) = \\frac {\\pmb x \\cdot \\pmb y}{||\\pmb x|| \\cdot ||\\pmb y||}\n",
    "\\end{align}"
   ]
  },
  {
   "cell_type": "markdown",
   "metadata": {},
   "source": [
    "With cosine similarity, we need to convert sentences into vectors. One way to do that is to use bag of words with either TF (term frequency) or TF-IDF (term frequency- inverse document frequency). The choice of TF or TF-IDF depends on application and is immaterial to how cosine similarity is actually performed — which just needs vectors. TF is good for text similarity in general, but TF-IDF is good for search query relevance."
   ]
  },
  {
   "cell_type": "markdown",
   "metadata": {},
   "source": [
    "# The computation was done as follows.\n",
    "### INSERT INFO OF THE CODE FLOW"
   ]
  },
  {
   "cell_type": "markdown",
   "metadata": {},
   "source": []
  },
  {
   "cell_type": "code",
   "execution_count": 42,
   "metadata": {
    "ExecuteTime": {
     "end_time": "2018-11-24T18:10:32.885739Z",
     "start_time": "2018-11-24T18:09:26.152465Z"
    }
   },
   "outputs": [
    {
     "name": "stdout",
     "output_type": "stream",
     "text": [
      "Query processed:  ['beauti', 'hous']\n"
     ]
    },
    {
     "name": "stderr",
     "output_type": "stream",
     "text": [
      "100%|███████████████████████████████████████████████████████████████████████████| 18036/18036 [00:51<00:00, 349.26it/s]\n"
     ]
    },
    {
     "name": "stdout",
     "output_type": "stream",
     "text": [
      "[LOG]: The file tfIdfMatrix.pickle doesn't exist\n",
      "[LOG]: A new tfidf matrix will be built and saved in persistent memory with the name:= tfIdfMatrix.pickle\n",
      "[LOG]: The file term_encodingTFIDF.pickle doesn't exist\n",
      "[LOG]: A new term encoding will be built and saved in persistent memory with the name:= term_encodingTFIDF.pickle\n",
      "[LOG]: The file RI2.pickle doesn't exist\n",
      "[LOG]: A new inverted index will be built and saved in persistent memory with the name:= RI2.pickle\n"
     ]
    }
   ],
   "source": [
    "result = airbnb.rankedQuery('a beautiful house', k =  10)"
   ]
  },
  {
   "cell_type": "code",
   "execution_count": 43,
   "metadata": {
    "ExecuteTime": {
     "end_time": "2018-11-24T18:10:33.495636Z",
     "start_time": "2018-11-24T18:10:33.480704Z"
    },
    "scrolled": false
   },
   "outputs": [
    {
     "data": {
      "text/html": [
       "<div>\n",
       "<style scoped>\n",
       "    .dataframe tbody tr th:only-of-type {\n",
       "        vertical-align: middle;\n",
       "    }\n",
       "\n",
       "    .dataframe tbody tr th {\n",
       "        vertical-align: top;\n",
       "    }\n",
       "\n",
       "    .dataframe thead th {\n",
       "        text-align: right;\n",
       "    }\n",
       "</style>\n",
       "<table border=\"1\" class=\"dataframe\">\n",
       "  <thead>\n",
       "    <tr style=\"text-align: right;\">\n",
       "      <th></th>\n",
       "      <th>title</th>\n",
       "      <th>description</th>\n",
       "      <th>city</th>\n",
       "      <th>url</th>\n",
       "      <th>Similarity</th>\n",
       "    </tr>\n",
       "  </thead>\n",
       "  <tbody>\n",
       "    <tr>\n",
       "      <th>0</th>\n",
       "      <td>Quiet place</td>\n",
       "      <td>Beautiful house</td>\n",
       "      <td>New Caney</td>\n",
       "      <td>https://www.airbnb.com/rooms/16743790?location...</td>\n",
       "      <td>0.701582</td>\n",
       "    </tr>\n",
       "    <tr>\n",
       "      <th>1</th>\n",
       "      <td>Beautiful, New Beach House</td>\n",
       "      <td>Our house is close to restaurants and dining, ...</td>\n",
       "      <td>Crystal Beach</td>\n",
       "      <td>https://www.airbnb.com/rooms/15068378?location...</td>\n",
       "      <td>0.455250</td>\n",
       "    </tr>\n",
       "    <tr>\n",
       "      <th>2</th>\n",
       "      <td>My house is big and quite.</td>\n",
       "      <td>My house is a Mexican rustic decorate. Big roo...</td>\n",
       "      <td>San Antonio</td>\n",
       "      <td>https://www.airbnb.com/rooms/7378323?location=...</td>\n",
       "      <td>0.352277</td>\n",
       "    </tr>\n",
       "    <tr>\n",
       "      <th>3</th>\n",
       "      <td>Beautiful home near the splash pad, park and p...</td>\n",
       "      <td>The house is one house away from a park and .7...</td>\n",
       "      <td>Katy</td>\n",
       "      <td>https://www.airbnb.com/rooms/19079555?location...</td>\n",
       "      <td>0.348313</td>\n",
       "    </tr>\n",
       "    <tr>\n",
       "      <th>4</th>\n",
       "      <td>Beautiful home near the splash pad, park and p...</td>\n",
       "      <td>The house is one house away from a park and .7...</td>\n",
       "      <td>Katy</td>\n",
       "      <td>https://www.airbnb.com/rooms/19079555?location...</td>\n",
       "      <td>0.348313</td>\n",
       "    </tr>\n",
       "    <tr>\n",
       "      <th>5</th>\n",
       "      <td>House on the Creek</td>\n",
       "      <td>A beautiful house on the Creek, conveniently l...</td>\n",
       "      <td>Plano</td>\n",
       "      <td>https://www.airbnb.com/rooms/17992009?location...</td>\n",
       "      <td>0.346690</td>\n",
       "    </tr>\n",
       "    <tr>\n",
       "      <th>6</th>\n",
       "      <td>House in wonderful neighborhood &amp; beautiful views</td>\n",
       "      <td>My place is good for couples, solo adventurers...</td>\n",
       "      <td>San Antonio</td>\n",
       "      <td>https://www.airbnb.com/rooms/17345573?location...</td>\n",
       "      <td>0.345514</td>\n",
       "    </tr>\n",
       "    <tr>\n",
       "      <th>7</th>\n",
       "      <td>House in wonderful neighborhood &amp; beautiful views</td>\n",
       "      <td>My place is good for couples, solo adventurers...</td>\n",
       "      <td>San Antonio</td>\n",
       "      <td>https://www.airbnb.com/rooms/17345573?location...</td>\n",
       "      <td>0.345514</td>\n",
       "    </tr>\n",
       "    <tr>\n",
       "      <th>8</th>\n",
       "      <td>1. Room in beautiful home</td>\n",
       "      <td>A nice clean room in a quiet, beautiful house ...</td>\n",
       "      <td>San Antonio</td>\n",
       "      <td>https://www.airbnb.com/rooms/13915253?location...</td>\n",
       "      <td>0.343841</td>\n",
       "    </tr>\n",
       "    <tr>\n",
       "      <th>9</th>\n",
       "      <td>Quite Spacious Private Room in Beautiful House</td>\n",
       "      <td>Our house is in a small and quite family neigh...</td>\n",
       "      <td>Houston</td>\n",
       "      <td>https://www.airbnb.com/rooms/18784719?location...</td>\n",
       "      <td>0.339466</td>\n",
       "    </tr>\n",
       "  </tbody>\n",
       "</table>\n",
       "</div>"
      ],
      "text/plain": [
       "                                               title  \\\n",
       "0                                        Quiet place   \n",
       "1                         Beautiful, New Beach House   \n",
       "2                         My house is big and quite.   \n",
       "3  Beautiful home near the splash pad, park and p...   \n",
       "4  Beautiful home near the splash pad, park and p...   \n",
       "5                                 House on the Creek   \n",
       "6  House in wonderful neighborhood & beautiful views   \n",
       "7  House in wonderful neighborhood & beautiful views   \n",
       "8                          1. Room in beautiful home   \n",
       "9     Quite Spacious Private Room in Beautiful House   \n",
       "\n",
       "                                         description           city  \\\n",
       "0                                    Beautiful house      New Caney   \n",
       "1  Our house is close to restaurants and dining, ...  Crystal Beach   \n",
       "2  My house is a Mexican rustic decorate. Big roo...    San Antonio   \n",
       "3  The house is one house away from a park and .7...           Katy   \n",
       "4  The house is one house away from a park and .7...           Katy   \n",
       "5  A beautiful house on the Creek, conveniently l...          Plano   \n",
       "6  My place is good for couples, solo adventurers...    San Antonio   \n",
       "7  My place is good for couples, solo adventurers...    San Antonio   \n",
       "8  A nice clean room in a quiet, beautiful house ...    San Antonio   \n",
       "9  Our house is in a small and quite family neigh...        Houston   \n",
       "\n",
       "                                                 url  Similarity  \n",
       "0  https://www.airbnb.com/rooms/16743790?location...    0.701582  \n",
       "1  https://www.airbnb.com/rooms/15068378?location...    0.455250  \n",
       "2  https://www.airbnb.com/rooms/7378323?location=...    0.352277  \n",
       "3  https://www.airbnb.com/rooms/19079555?location...    0.348313  \n",
       "4  https://www.airbnb.com/rooms/19079555?location...    0.348313  \n",
       "5  https://www.airbnb.com/rooms/17992009?location...    0.346690  \n",
       "6  https://www.airbnb.com/rooms/17345573?location...    0.345514  \n",
       "7  https://www.airbnb.com/rooms/17345573?location...    0.345514  \n",
       "8  https://www.airbnb.com/rooms/13915253?location...    0.343841  \n",
       "9  https://www.airbnb.com/rooms/18784719?location...    0.339466  "
      ]
     },
     "execution_count": 43,
     "metadata": {},
     "output_type": "execute_result"
    }
   ],
   "source": [
    "result"
   ]
  },
  {
   "cell_type": "markdown",
   "metadata": {},
   "source": [
    "## 2.5 Now let's define a new score"
   ]
  },
  {
   "cell_type": "markdown",
   "metadata": {},
   "source": [
    "Let's be more proactive and ask the user to input some information to improve the previous result for the entered query."
   ]
  },
  {
   "cell_type": "markdown",
   "metadata": {},
   "source": [
    "For example, would be interesting for the user choose minimal amount of rooms, a location desired for the house and the maximum price it is willing to pay."
   ]
  },
  {
   "cell_type": "markdown",
   "metadata": {},
   "source": [
    "Let's imagine that we provide a platform where the user input in the respective fields the amount of rooms, the price also the user is able to point a desired location in map."
   ]
  },
  {
   "cell_type": "markdown",
   "metadata": {},
   "source": [
    "With this is possible to compute the similarity of each house to the target inputed by the user."
   ]
  },
  {
   "cell_type": "markdown",
   "metadata": {},
   "source": [
    "**The workflow for the developed code go as follow**"
   ]
  },
  {
   "cell_type": "markdown",
   "metadata": {},
   "source": [
    "For each document, it is collected the number of rooms, the price, the latitude and longitude and the similarity is a weighted mean of each individual distance, outputing a number between 1 and 0 where 0 is the maximum match.\n",
    "\n",
    "The weight of each similarity in the calculation of the final similarity was defined through trial until the results were satisfactory."
   ]
  },
  {
   "cell_type": "markdown",
   "metadata": {
    "ExecuteTime": {
     "end_time": "2018-11-24T18:34:25.772239Z",
     "start_time": "2018-11-24T18:34:25.765233Z"
    }
   },
   "source": [
    "\\begin{align}\n",
    "Similarity = \\frac{weight rooms \\times Rooms Similarity + weight loc \\times Location Similarity + weight price \\times Price Similarity}{3}\n",
    "\\end{align}"
   ]
  },
  {
   "cell_type": "markdown",
   "metadata": {},
   "source": [
    "Where the Rooms Similarity is calculated as:"
   ]
  },
  {
   "cell_type": "markdown",
   "metadata": {
    "ExecuteTime": {
     "end_time": "2018-11-24T18:41:10.530118Z",
     "start_time": "2018-11-24T18:41:10.524132Z"
    }
   },
   "source": [
    "\\begin{align}\n",
    "RoomsSimilarity = \\frac{1}{1 + RoomsDifference^{10}}\n",
    "\\end{align}"
   ]
  },
  {
   "cell_type": "markdown",
   "metadata": {},
   "source": [
    "The Location Similarity was calculated using the library geopy and the function geodesic which allows to compute the precise ellipsoid distance from one point of coordinates to the other on earth."
   ]
  },
  {
   "cell_type": "markdown",
   "metadata": {
    "ExecuteTime": {
     "end_time": "2018-11-24T18:48:37.809514Z",
     "start_time": "2018-11-24T18:48:37.803531Z"
    }
   },
   "source": [
    "\\begin{align}\n",
    "LocationSimilarity = \\frac{1}{1 + 0.1 \\times GeoDistance}\n",
    "\\end{align}"
   ]
  },
  {
   "cell_type": "markdown",
   "metadata": {
    "ExecuteTime": {
     "end_time": "2018-11-24T18:51:00.721027Z",
     "start_time": "2018-11-24T18:51:00.715016Z"
    }
   },
   "source": [
    "And the Price Similarity is calculated as:"
   ]
  },
  {
   "cell_type": "markdown",
   "metadata": {
    "ExecuteTime": {
     "end_time": "2018-11-24T18:37:52.947488Z",
     "start_time": "2018-11-24T18:37:52.941501Z"
    }
   },
   "source": [
    "\\begin{align}\n",
    "PriceSimilarity = \\frac{1}{\\frac{House Price}{Price Requested}}\n",
    "\\end{align}"
   ]
  },
  {
   "cell_type": "markdown",
   "metadata": {},
   "source": [
    "Although if the number of rooms desired is smaller than the rooms of the house it shouldn't be a problem, thus in this cases the rooms similarity is set to 1.\n",
    "\n",
    "The same annalogy goes for the price, if the house is cheaper than the requested price the price similarity is also set to 1."
   ]
  },
  {
   "cell_type": "markdown",
   "metadata": {},
   "source": [
    "The weights chosen for this search method were 0.15 for the price, 0.25 for the rooms and 0.6 for the location. This parameters have proven to satisfy for many different custom queries."
   ]
  },
  {
   "cell_type": "markdown",
   "metadata": {},
   "source": [
    "### Further improving"
   ]
  },
  {
   "cell_type": "markdown",
   "metadata": {},
   "source": [
    "Let's allow the user to change the previous custom ranking by inputing what is more relevant for him.\n",
    "\n",
    "The user might be very restrict with location and would not mind to pay more for example. Than the user can input the ranking by opting for price oriented or location oriented search."
   ]
  },
  {
   "cell_type": "markdown",
   "metadata": {},
   "source": [
    "Where the following weights would be applied if the user wants to improve."
   ]
  },
  {
   "cell_type": "code",
   "execution_count": null,
   "metadata": {},
   "outputs": [],
   "source": [
    "weightsPrice = [0.7, 0.1, 0.2]\n",
    "weightsLoc = [0.1, 0.2, 0.7]"
   ]
  },
  {
   "cell_type": "markdown",
   "metadata": {},
   "source": [
    "## Example"
   ]
  },
  {
   "cell_type": "code",
   "execution_count": 67,
   "metadata": {
    "ExecuteTime": {
     "end_time": "2018-11-24T19:15:49.255057Z",
     "start_time": "2018-11-24T19:15:32.665895Z"
    },
    "scrolled": true
   },
   "outputs": [
    {
     "name": "stdout",
     "output_type": "stream",
     "text": [
      "Enter your search: a beach house\n",
      "How much would you pay at maximum? 300\n",
      "How many rooms do you want? 3\n",
      "Give us a location: 29.064693, -95.134938\n"
     ]
    }
   ],
   "source": [
    "#interface with the user\n",
    "querytext = str(input('Enter your search: '))\n",
    "\n",
    "queryinput =[]\n",
    "queryinput.append(int(input(\"How much would you pay at maximum? \")))\n",
    "queryinput.append(int(input(\"How many rooms do you want? \")))\n",
    "\n",
    "location = list(map(float, input(\"Give us a location: \").split(\", \")))\n",
    "\n",
    "for x in location:\n",
    "    queryinput.append(x)"
   ]
  },
  {
   "cell_type": "code",
   "execution_count": null,
   "metadata": {},
   "outputs": [],
   "source": [
    "airbnb.customQuery(query= queryinput, textQuery= querytext)"
   ]
  },
  {
   "cell_type": "markdown",
   "metadata": {},
   "source": [
    "# Bonus Step: Make a nice visualization!"
   ]
  },
  {
   "cell_type": "markdown",
   "metadata": {},
   "source": [
    "This section consists in displaying the user a map with the locations of the search engine."
   ]
  },
  {
   "cell_type": "markdown",
   "metadata": {},
   "source": [
    "The user will input a latitude and longitude of a specific location and the radius of the search. On a platform the user could click on a map and the code acquire this location."
   ]
  },
  {
   "cell_type": "code",
   "execution_count": 72,
   "metadata": {
    "ExecuteTime": {
     "end_time": "2018-11-24T19:51:16.820888Z",
     "start_time": "2018-11-24T19:51:05.841501Z"
    },
    "scrolled": true
   },
   "outputs": [
    {
     "name": "stdout",
     "output_type": "stream",
     "text": [
      "Choose a location: 32.779594, -96.800768\n",
      "Insert the distance: 2000\n"
     ]
    }
   ],
   "source": [
    "location =  list(map(float, input('Choose a location: ').split(', ')))\n",
    "coordinates = (float(location[0]), float(location[1]))\n",
    "max_distance = input(\"Insert the distance: \")\n",
    "\n",
    "#Intialize the folium map\n",
    "m = folium.Map(location = coordinates, zoom_start=13)"
   ]
  },
  {
   "cell_type": "markdown",
   "metadata": {},
   "source": [
    "Creating a circle with the radio of the search inputed by the user and adding it to the map."
   ]
  },
  {
   "cell_type": "code",
   "execution_count": 74,
   "metadata": {
    "ExecuteTime": {
     "end_time": "2018-11-24T19:51:50.972149Z",
     "start_time": "2018-11-24T19:51:50.965167Z"
    }
   },
   "outputs": [
    {
     "data": {
      "text/plain": [
       "<folium.vector_layers.Circle at 0x1f976fda780>"
      ]
     },
     "execution_count": 74,
     "metadata": {},
     "output_type": "execute_result"
    }
   ],
   "source": [
    "folium.Circle(\n",
    "    radius= float(max_distance),\n",
    "    location=(coordinates),\n",
    "    color='#3186cc',\n",
    "    fill=True,\n",
    "    fill_color='#3186cc'\n",
    ").add_to(m)"
   ]
  },
  {
   "cell_type": "markdown",
   "metadata": {},
   "source": [
    "In this step we go through every document, retrieve the house location and price and save it in a new list."
   ]
  },
  {
   "cell_type": "code",
   "execution_count": 79,
   "metadata": {
    "ExecuteTime": {
     "end_time": "2018-11-24T19:56:21.354455Z",
     "start_time": "2018-11-24T19:54:39.376959Z"
    }
   },
   "outputs": [],
   "source": [
    "dir_path = airbnb.dir_path\n",
    "review_dir = airbnb.review_dir\n",
    "l_temp =[]\n",
    "for filePath in listdir(dir_path+review_dir):\n",
    "    data = pd.read_csv(dir_path+review_dir+ filePath, delimiter = '\\t',header = None, encoding = 'utf8')\n",
    "    latitude = float(data.values[0][5])\n",
    "    longitude = float(data.values[0][6])\n",
    "    #title = str(data.values[0][7]).strip()\n",
    "    average_rate_per_night = str(data.values[0][0]).strip()\n",
    "    l_temp.append((latitude, longitude, average_rate_per_night))    "
   ]
  },
  {
   "cell_type": "markdown",
   "metadata": {},
   "source": [
    "Now that we have the information of every house available, let's see which of those have a distance to the target location smaller than the radius inputed by the user and mark it on the map."
   ]
  },
  {
   "cell_type": "code",
   "execution_count": 81,
   "metadata": {
    "ExecuteTime": {
     "end_time": "2018-11-24T20:01:17.186098Z",
     "start_time": "2018-11-24T20:01:11.507473Z"
    }
   },
   "outputs": [],
   "source": [
    "folium.Marker(location = coordinates,\n",
    "              icon=folium.Icon(color='green',icon='home')\n",
    "             ).add_to(m)\n",
    "for i in l_temp: \n",
    "    if (distance.geodesic(coordinates, (i[0],i[1]), ellipsoid = (6377., 6356., 1 / 297.)).meters <= float(max_distance)):\n",
    "        folium.Marker(location = (i[0],i[1]), popup = i[2], icon = folium.Icon(color ='blue', icon='home')\n",
    "                     ).add_to(m)"
   ]
  },
  {
   "cell_type": "markdown",
   "metadata": {},
   "source": [
    "Saving the results"
   ]
  },
  {
   "cell_type": "code",
   "execution_count": 83,
   "metadata": {
    "ExecuteTime": {
     "end_time": "2018-11-24T20:01:21.689986Z",
     "start_time": "2018-11-24T20:01:21.265047Z"
    }
   },
   "outputs": [],
   "source": [
    "m.save(os.path.join('results', r\"C:\\Users\\guilh\\Desktop\\ADM\\HW3\\HW03\\map.html\"))"
   ]
  },
  {
   "cell_type": "code",
   "execution_count": null,
   "metadata": {},
   "outputs": [],
   "source": [
    "m"
   ]
  }
 ],
 "metadata": {
  "kernelspec": {
   "display_name": "Python 3",
   "language": "python",
   "name": "python3"
  },
  "language_info": {
   "codemirror_mode": {
    "name": "ipython",
    "version": 3
   },
   "file_extension": ".py",
   "mimetype": "text/x-python",
   "name": "python",
   "nbconvert_exporter": "python",
   "pygments_lexer": "ipython3",
   "version": "3.7.0"
  },
  "varInspector": {
   "cols": {
    "lenName": 16,
    "lenType": 16,
    "lenVar": 40
   },
   "kernels_config": {
    "python": {
     "delete_cmd_postfix": "",
     "delete_cmd_prefix": "del ",
     "library": "var_list.py",
     "varRefreshCmd": "print(var_dic_list())"
    },
    "r": {
     "delete_cmd_postfix": ") ",
     "delete_cmd_prefix": "rm(",
     "library": "var_list.r",
     "varRefreshCmd": "cat(var_dic_list()) "
    }
   },
   "types_to_exclude": [
    "module",
    "function",
    "builtin_function_or_method",
    "instance",
    "_Feature"
   ],
   "window_display": false
  }
 },
 "nbformat": 4,
 "nbformat_minor": 2
}
